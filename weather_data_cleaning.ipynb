{
 "cells": [
  {
   "cell_type": "markdown",
   "metadata": {},
   "source": [
    "# Weather Data Cleaning"
   ]
  },
  {
   "cell_type": "markdown",
   "metadata": {},
   "source": [
    "# Introduction\n",
    "This project is meant to gather insights on electricity usage.\n",
    "This step is needed to clean up the raw weather data so, it's usable for correlation with the Energy Usage Data, visualizations and machine learning algorthms.\n",
    "\n",
    "## Data Source\n",
    "This data was collected using [Meteostat](https://github.com/meteostat/meteostat-python). The Meteostat Python library provides a simple API for accessing open weather and climate data. The historical observations and statistics are collected by Meteostat from different public interfaces, most of which are governmental.\n",
    "\n",
    "Among the data sources are national weather services like the National Oceanic and Atmospheric Administration (NOAA) and Germany's national meteorological service (DWD)."
   ]
  },
  {
   "cell_type": "markdown",
   "metadata": {},
   "source": [
    "# Goals\n",
    "* become familiar with the dataset\n",
    "* remove redundant data\n",
    "* clean anomalous data"
   ]
  },
  {
   "cell_type": "markdown",
   "metadata": {},
   "source": [
    "###  src: [Meteostat Documentation](https://dev.meteostat.net/python/hourly.html#data-structure)\n",
    "\n",
    "| | | |\n",
    "|-|-|-|\n",
    "|**Column**|**Description**|**Type**|\n",
    "|**station**|Meteostat ID of the weather station (only if query refers to multiple stations)|String|\n",
    "|**time**|datetime of the observation|Datetime64|\n",
    "|**temp**|air temperature in *°C*|Float64|\n",
    "|**dwpt**|dew point in *°C*|Float64|\n",
    "|**rhum**|relative humidity in percent (*%*)|Float64|\n",
    "|**prcp**|one hour precipitation total in *mm*|Float64|\n",
    "|**snow**|snow depth in *mm*|Float64|\n",
    "|**wdir**|average wind direction in degrees (*°*)|Float64|\n",
    "|**wspd**|average wind speed in *km/h*|Float64|\n",
    "|**wpgt**|peak wind gust in *km/h*|Float64|\n",
    "|**pres**|average sea-level air pressure in *hPa*|Float64|\n",
    "|**tsun**|one hour sunshine total in minutes (*m*)|Float64|\n",
    "|**coco**|[weather condition code](https://dev.meteostat.net/docs/formats.html#weather-condition-codes) |Float64|"
   ]
  },
  {
   "cell_type": "code",
   "execution_count": 22,
   "metadata": {},
   "outputs": [],
   "source": [
    "import pandas as pd\n",
    "import numpy as np"
   ]
  },
  {
   "cell_type": "code",
   "execution_count": 23,
   "metadata": {},
   "outputs": [
    {
     "name": "stdout",
     "output_type": "stream",
     "text": [
      "<class 'pandas.core.frame.DataFrame'>\n",
      "RangeIndex: 8785 entries, 0 to 8784\n",
      "Data columns (total 12 columns):\n",
      " #   Column  Non-Null Count  Dtype  \n",
      "---  ------  --------------  -----  \n",
      " 0   time    8785 non-null   object \n",
      " 1   temp    8785 non-null   float64\n",
      " 2   dwpt    8785 non-null   float64\n",
      " 3   rhum    8785 non-null   float64\n",
      " 4   prcp    8785 non-null   float64\n",
      " 5   snow    0 non-null      float64\n",
      " 6   wdir    8785 non-null   float64\n",
      " 7   wspd    8785 non-null   float64\n",
      " 8   wpgt    0 non-null      float64\n",
      " 9   pres    8785 non-null   float64\n",
      " 10  tsun    0 non-null      float64\n",
      " 11  coco    8785 non-null   float64\n",
      "dtypes: float64(11), object(1)\n",
      "memory usage: 823.7+ KB\n"
     ]
    }
   ],
   "source": [
    "# Import the energy use spreadsheet from the 'data' directory\n",
    "\n",
    "# Define the directory path and the regular expression pattern\n",
    "import glob\n",
    "directory_path = \"./data\"\n",
    "file_pattern = \"weather_*.csv\"\n",
    "\n",
    "# Use glob.glob to match filenames based on the pattern\n",
    "file_path = glob.glob(f\"{directory_path}/{file_pattern}\")[0]\n",
    "weather_df_raw = pd.read_csv(filepath_or_buffer=file_path)\n",
    "weather_df_raw.info()"
   ]
  },
  {
   "cell_type": "code",
   "execution_count": 24,
   "metadata": {
    "scrolled": true
   },
   "outputs": [
    {
     "data": {
      "text/html": [
       "<div>\n",
       "<style scoped>\n",
       "    .dataframe tbody tr th:only-of-type {\n",
       "        vertical-align: middle;\n",
       "    }\n",
       "\n",
       "    .dataframe tbody tr th {\n",
       "        vertical-align: top;\n",
       "    }\n",
       "\n",
       "    .dataframe thead th {\n",
       "        text-align: right;\n",
       "    }\n",
       "</style>\n",
       "<table border=\"1\" class=\"dataframe\">\n",
       "  <thead>\n",
       "    <tr style=\"text-align: right;\">\n",
       "      <th></th>\n",
       "      <th>time</th>\n",
       "      <th>temp</th>\n",
       "      <th>dwpt</th>\n",
       "      <th>rhum</th>\n",
       "      <th>prcp</th>\n",
       "      <th>snow</th>\n",
       "      <th>wdir</th>\n",
       "      <th>wspd</th>\n",
       "      <th>wpgt</th>\n",
       "      <th>pres</th>\n",
       "      <th>tsun</th>\n",
       "      <th>coco</th>\n",
       "    </tr>\n",
       "  </thead>\n",
       "  <tbody>\n",
       "    <tr>\n",
       "      <th>0</th>\n",
       "      <td>2022-10-21 00:00:00</td>\n",
       "      <td>13.0</td>\n",
       "      <td>1.1</td>\n",
       "      <td>44.0</td>\n",
       "      <td>0.0</td>\n",
       "      <td>NaN</td>\n",
       "      <td>190.0</td>\n",
       "      <td>7.6</td>\n",
       "      <td>NaN</td>\n",
       "      <td>1008.0</td>\n",
       "      <td>NaN</td>\n",
       "      <td>3.0</td>\n",
       "    </tr>\n",
       "    <tr>\n",
       "      <th>1</th>\n",
       "      <td>2022-10-21 01:00:00</td>\n",
       "      <td>10.7</td>\n",
       "      <td>1.0</td>\n",
       "      <td>51.0</td>\n",
       "      <td>0.0</td>\n",
       "      <td>NaN</td>\n",
       "      <td>160.0</td>\n",
       "      <td>7.6</td>\n",
       "      <td>NaN</td>\n",
       "      <td>1008.0</td>\n",
       "      <td>NaN</td>\n",
       "      <td>3.0</td>\n",
       "    </tr>\n",
       "    <tr>\n",
       "      <th>2</th>\n",
       "      <td>2022-10-21 02:00:00</td>\n",
       "      <td>9.0</td>\n",
       "      <td>1.5</td>\n",
       "      <td>59.0</td>\n",
       "      <td>0.0</td>\n",
       "      <td>NaN</td>\n",
       "      <td>180.0</td>\n",
       "      <td>5.4</td>\n",
       "      <td>NaN</td>\n",
       "      <td>1008.0</td>\n",
       "      <td>NaN</td>\n",
       "      <td>3.0</td>\n",
       "    </tr>\n",
       "    <tr>\n",
       "      <th>3</th>\n",
       "      <td>2022-10-21 03:00:00</td>\n",
       "      <td>9.0</td>\n",
       "      <td>1.5</td>\n",
       "      <td>59.0</td>\n",
       "      <td>0.0</td>\n",
       "      <td>NaN</td>\n",
       "      <td>180.0</td>\n",
       "      <td>5.4</td>\n",
       "      <td>NaN</td>\n",
       "      <td>1008.0</td>\n",
       "      <td>NaN</td>\n",
       "      <td>3.0</td>\n",
       "    </tr>\n",
       "    <tr>\n",
       "      <th>4</th>\n",
       "      <td>2022-10-21 04:00:00</td>\n",
       "      <td>7.6</td>\n",
       "      <td>1.5</td>\n",
       "      <td>65.0</td>\n",
       "      <td>0.0</td>\n",
       "      <td>NaN</td>\n",
       "      <td>170.0</td>\n",
       "      <td>5.4</td>\n",
       "      <td>NaN</td>\n",
       "      <td>1008.0</td>\n",
       "      <td>NaN</td>\n",
       "      <td>1.0</td>\n",
       "    </tr>\n",
       "  </tbody>\n",
       "</table>\n",
       "</div>"
      ],
      "text/plain": [
       "                  time  temp  dwpt  rhum  prcp  snow   wdir  wspd  wpgt  \\\n",
       "0  2022-10-21 00:00:00  13.0   1.1  44.0   0.0   NaN  190.0   7.6   NaN   \n",
       "1  2022-10-21 01:00:00  10.7   1.0  51.0   0.0   NaN  160.0   7.6   NaN   \n",
       "2  2022-10-21 02:00:00   9.0   1.5  59.0   0.0   NaN  180.0   5.4   NaN   \n",
       "3  2022-10-21 03:00:00   9.0   1.5  59.0   0.0   NaN  180.0   5.4   NaN   \n",
       "4  2022-10-21 04:00:00   7.6   1.5  65.0   0.0   NaN  170.0   5.4   NaN   \n",
       "\n",
       "     pres  tsun  coco  \n",
       "0  1008.0   NaN   3.0  \n",
       "1  1008.0   NaN   3.0  \n",
       "2  1008.0   NaN   3.0  \n",
       "3  1008.0   NaN   3.0  \n",
       "4  1008.0   NaN   1.0  "
      ]
     },
     "execution_count": 24,
     "metadata": {},
     "output_type": "execute_result"
    }
   ],
   "source": [
    "weather_df_raw.head()"
   ]
  },
  {
   "cell_type": "markdown",
   "metadata": {},
   "source": [
    "# Observations & TODOs\n",
    "* **snow, wpgt, tsun** seem empty. verify emptiness & remove.\n",
    "* **time** needs to be converted to datetime objs\n",
    "* **time** intervals seem to be all the same. it seems save to assume a 1 hour recording duration starting at the time\n",
    "* need to lookup the exact meaning behind certain columns: : **dwpt, rhum, prcp, coco**\n",
    "* **coco** seems to be whole numbers, convert to int64\n",
    "* **coco** might also be represented by a categorical string variable\n"
   ]
  },
  {
   "cell_type": "code",
   "execution_count": 25,
   "metadata": {},
   "outputs": [],
   "source": [
    "# copy raw data into a df to be cleaned\n",
    "weather_df = weather_df_raw.copy()"
   ]
  },
  {
   "cell_type": "code",
   "execution_count": 26,
   "metadata": {},
   "outputs": [
    {
     "name": "stdout",
     "output_type": "stream",
     "text": [
      "[array([nan]), array([nan]), array([nan])]\n"
     ]
    }
   ],
   "source": [
    "# Printing all the unique values of null columns\n",
    "# verifying snow, wpgt & tsun seem to be empty columns,\n",
    "print([weather_df['snow'].unique(),\n",
    "    weather_df['wpgt'].unique(),\n",
    "    weather_df['tsun'].unique()])"
   ]
  },
  {
   "cell_type": "code",
   "execution_count": 27,
   "metadata": {},
   "outputs": [
    {
     "name": "stdout",
     "output_type": "stream",
     "text": [
      "Index(['time', 'temp', 'dwpt', 'rhum', 'prcp', 'wdir', 'wspd', 'pres', 'coco'], dtype='object')\n"
     ]
    }
   ],
   "source": [
    "# removed ols with no information (variance)\n",
    "weather_df = weather_df.drop(['snow', 'wpgt', 'tsun'], axis=1)\n",
    "print(weather_df.columns)"
   ]
  },
  {
   "cell_type": "code",
   "execution_count": 28,
   "metadata": {},
   "outputs": [],
   "source": [
    "# propperly format dates into datetime objs\n",
    "weather_df['time'] = pd.to_datetime(weather_df['time'], infer_datetime_format=True)"
   ]
  },
  {
   "cell_type": "code",
   "execution_count": 29,
   "metadata": {
    "scrolled": false
   },
   "outputs": [
    {
     "name": "stderr",
     "output_type": "stream",
     "text": [
      "<ipython-input-29-0d859d49167b>:1: FutureWarning: Treating datetime data as categorical rather than numeric in `.describe` is deprecated and will be removed in a future version of pandas. Specify `datetime_is_numeric=True` to silence this warning and adopt the future behavior now.\n",
      "  weather_df.describe(include='all')\n"
     ]
    },
    {
     "data": {
      "text/html": [
       "<div>\n",
       "<style scoped>\n",
       "    .dataframe tbody tr th:only-of-type {\n",
       "        vertical-align: middle;\n",
       "    }\n",
       "\n",
       "    .dataframe tbody tr th {\n",
       "        vertical-align: top;\n",
       "    }\n",
       "\n",
       "    .dataframe thead th {\n",
       "        text-align: right;\n",
       "    }\n",
       "</style>\n",
       "<table border=\"1\" class=\"dataframe\">\n",
       "  <thead>\n",
       "    <tr style=\"text-align: right;\">\n",
       "      <th></th>\n",
       "      <th>time</th>\n",
       "      <th>temp</th>\n",
       "      <th>dwpt</th>\n",
       "      <th>rhum</th>\n",
       "      <th>prcp</th>\n",
       "      <th>wdir</th>\n",
       "      <th>wspd</th>\n",
       "      <th>pres</th>\n",
       "      <th>coco</th>\n",
       "    </tr>\n",
       "  </thead>\n",
       "  <tbody>\n",
       "    <tr>\n",
       "      <th>count</th>\n",
       "      <td>8785</td>\n",
       "      <td>8785.000000</td>\n",
       "      <td>8785.000000</td>\n",
       "      <td>8785.000000</td>\n",
       "      <td>8785.000000</td>\n",
       "      <td>8785.000000</td>\n",
       "      <td>8785.000000</td>\n",
       "      <td>8785.000000</td>\n",
       "      <td>8785.000000</td>\n",
       "    </tr>\n",
       "    <tr>\n",
       "      <th>unique</th>\n",
       "      <td>8785</td>\n",
       "      <td>NaN</td>\n",
       "      <td>NaN</td>\n",
       "      <td>NaN</td>\n",
       "      <td>NaN</td>\n",
       "      <td>NaN</td>\n",
       "      <td>NaN</td>\n",
       "      <td>NaN</td>\n",
       "      <td>NaN</td>\n",
       "    </tr>\n",
       "    <tr>\n",
       "      <th>top</th>\n",
       "      <td>2023-09-30 13:00:00</td>\n",
       "      <td>NaN</td>\n",
       "      <td>NaN</td>\n",
       "      <td>NaN</td>\n",
       "      <td>NaN</td>\n",
       "      <td>NaN</td>\n",
       "      <td>NaN</td>\n",
       "      <td>NaN</td>\n",
       "      <td>NaN</td>\n",
       "    </tr>\n",
       "    <tr>\n",
       "      <th>freq</th>\n",
       "      <td>1</td>\n",
       "      <td>NaN</td>\n",
       "      <td>NaN</td>\n",
       "      <td>NaN</td>\n",
       "      <td>NaN</td>\n",
       "      <td>NaN</td>\n",
       "      <td>NaN</td>\n",
       "      <td>NaN</td>\n",
       "      <td>NaN</td>\n",
       "    </tr>\n",
       "    <tr>\n",
       "      <th>first</th>\n",
       "      <td>2022-10-21 00:00:00</td>\n",
       "      <td>NaN</td>\n",
       "      <td>NaN</td>\n",
       "      <td>NaN</td>\n",
       "      <td>NaN</td>\n",
       "      <td>NaN</td>\n",
       "      <td>NaN</td>\n",
       "      <td>NaN</td>\n",
       "      <td>NaN</td>\n",
       "    </tr>\n",
       "    <tr>\n",
       "      <th>last</th>\n",
       "      <td>2023-10-22 00:00:00</td>\n",
       "      <td>NaN</td>\n",
       "      <td>NaN</td>\n",
       "      <td>NaN</td>\n",
       "      <td>NaN</td>\n",
       "      <td>NaN</td>\n",
       "      <td>NaN</td>\n",
       "      <td>NaN</td>\n",
       "      <td>NaN</td>\n",
       "    </tr>\n",
       "    <tr>\n",
       "      <th>mean</th>\n",
       "      <td>NaN</td>\n",
       "      <td>12.097336</td>\n",
       "      <td>7.343927</td>\n",
       "      <td>76.144565</td>\n",
       "      <td>0.137917</td>\n",
       "      <td>162.092658</td>\n",
       "      <td>11.850609</td>\n",
       "      <td>1015.824667</td>\n",
       "      <td>3.171201</td>\n",
       "    </tr>\n",
       "    <tr>\n",
       "      <th>std</th>\n",
       "      <td>NaN</td>\n",
       "      <td>10.784658</td>\n",
       "      <td>9.874908</td>\n",
       "      <td>20.482034</td>\n",
       "      <td>0.889806</td>\n",
       "      <td>114.484692</td>\n",
       "      <td>9.509152</td>\n",
       "      <td>7.209680</td>\n",
       "      <td>2.641671</td>\n",
       "    </tr>\n",
       "    <tr>\n",
       "      <th>min</th>\n",
       "      <td>NaN</td>\n",
       "      <td>-22.000000</td>\n",
       "      <td>-25.100000</td>\n",
       "      <td>17.000000</td>\n",
       "      <td>0.000000</td>\n",
       "      <td>0.000000</td>\n",
       "      <td>0.000000</td>\n",
       "      <td>985.000000</td>\n",
       "      <td>1.000000</td>\n",
       "    </tr>\n",
       "    <tr>\n",
       "      <th>25%</th>\n",
       "      <td>NaN</td>\n",
       "      <td>3.400000</td>\n",
       "      <td>0.600000</td>\n",
       "      <td>62.000000</td>\n",
       "      <td>0.000000</td>\n",
       "      <td>60.000000</td>\n",
       "      <td>5.400000</td>\n",
       "      <td>1012.000000</td>\n",
       "      <td>1.000000</td>\n",
       "    </tr>\n",
       "    <tr>\n",
       "      <th>50%</th>\n",
       "      <td>NaN</td>\n",
       "      <td>12.700000</td>\n",
       "      <td>6.800000</td>\n",
       "      <td>79.000000</td>\n",
       "      <td>0.000000</td>\n",
       "      <td>170.000000</td>\n",
       "      <td>9.400000</td>\n",
       "      <td>1016.000000</td>\n",
       "      <td>3.000000</td>\n",
       "    </tr>\n",
       "    <tr>\n",
       "      <th>75%</th>\n",
       "      <td>NaN</td>\n",
       "      <td>20.900000</td>\n",
       "      <td>15.800000</td>\n",
       "      <td>95.000000</td>\n",
       "      <td>0.000000</td>\n",
       "      <td>270.000000</td>\n",
       "      <td>16.600000</td>\n",
       "      <td>1020.000000</td>\n",
       "      <td>3.000000</td>\n",
       "    </tr>\n",
       "    <tr>\n",
       "      <th>max</th>\n",
       "      <td>NaN</td>\n",
       "      <td>35.800000</td>\n",
       "      <td>30.300000</td>\n",
       "      <td>100.000000</td>\n",
       "      <td>31.500000</td>\n",
       "      <td>360.000000</td>\n",
       "      <td>55.400000</td>\n",
       "      <td>1041.000000</td>\n",
       "      <td>21.000000</td>\n",
       "    </tr>\n",
       "  </tbody>\n",
       "</table>\n",
       "</div>"
      ],
      "text/plain": [
       "                       time         temp         dwpt         rhum  \\\n",
       "count                  8785  8785.000000  8785.000000  8785.000000   \n",
       "unique                 8785          NaN          NaN          NaN   \n",
       "top     2023-09-30 13:00:00          NaN          NaN          NaN   \n",
       "freq                      1          NaN          NaN          NaN   \n",
       "first   2022-10-21 00:00:00          NaN          NaN          NaN   \n",
       "last    2023-10-22 00:00:00          NaN          NaN          NaN   \n",
       "mean                    NaN    12.097336     7.343927    76.144565   \n",
       "std                     NaN    10.784658     9.874908    20.482034   \n",
       "min                     NaN   -22.000000   -25.100000    17.000000   \n",
       "25%                     NaN     3.400000     0.600000    62.000000   \n",
       "50%                     NaN    12.700000     6.800000    79.000000   \n",
       "75%                     NaN    20.900000    15.800000    95.000000   \n",
       "max                     NaN    35.800000    30.300000   100.000000   \n",
       "\n",
       "               prcp         wdir         wspd         pres         coco  \n",
       "count   8785.000000  8785.000000  8785.000000  8785.000000  8785.000000  \n",
       "unique          NaN          NaN          NaN          NaN          NaN  \n",
       "top             NaN          NaN          NaN          NaN          NaN  \n",
       "freq            NaN          NaN          NaN          NaN          NaN  \n",
       "first           NaN          NaN          NaN          NaN          NaN  \n",
       "last            NaN          NaN          NaN          NaN          NaN  \n",
       "mean       0.137917   162.092658    11.850609  1015.824667     3.171201  \n",
       "std        0.889806   114.484692     9.509152     7.209680     2.641671  \n",
       "min        0.000000     0.000000     0.000000   985.000000     1.000000  \n",
       "25%        0.000000    60.000000     5.400000  1012.000000     1.000000  \n",
       "50%        0.000000   170.000000     9.400000  1016.000000     3.000000  \n",
       "75%        0.000000   270.000000    16.600000  1020.000000     3.000000  \n",
       "max       31.500000   360.000000    55.400000  1041.000000    21.000000  "
      ]
     },
     "execution_count": 29,
     "metadata": {},
     "output_type": "execute_result"
    }
   ],
   "source": [
    "weather_df.describe(include='all')"
   ]
  },
  {
   "cell_type": "code",
   "execution_count": 30,
   "metadata": {
    "scrolled": false
   },
   "outputs": [
    {
     "data": {
      "text/plain": [
       "array([ 3.,  1.,  2.,  7.,  8.,  9.,  5., 17., 14., 15., 12., 21., 18.,\n",
       "       13.])"
      ]
     },
     "execution_count": 30,
     "metadata": {},
     "output_type": "execute_result"
    }
   ],
   "source": [
    "weather_df['coco'].unique()"
   ]
  },
  {
   "cell_type": "code",
   "execution_count": null,
   "metadata": {},
   "outputs": [],
   "source": []
  }
 ],
 "metadata": {
  "environment": {
   "kernel": "python3",
   "name": "pytorch-gpu.1-13.m103",
   "type": "gcloud",
   "uri": "gcr.io/deeplearning-platform-release/pytorch-gpu.1-13:m103"
  },
  "kernelspec": {
   "display_name": "Python 3",
   "language": "python",
   "name": "python3"
  },
  "language_info": {
   "codemirror_mode": {
    "name": "ipython",
    "version": 3
   },
   "file_extension": ".py",
   "mimetype": "text/x-python",
   "name": "python",
   "nbconvert_exporter": "python",
   "pygments_lexer": "ipython3",
   "version": "3.8.10"
  }
 },
 "nbformat": 4,
 "nbformat_minor": 5
}
