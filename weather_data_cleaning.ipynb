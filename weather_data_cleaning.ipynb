{
 "cells": [
  {
   "cell_type": "markdown",
   "metadata": {},
   "source": [
    "# Weather Data Cleaning"
   ]
  },
  {
   "cell_type": "markdown",
   "metadata": {},
   "source": [
    "# Introduction\n",
    "This project is meant to gather insights on electricity usage.\n",
    "\n",
    "This step is needed to clean up the raw weather data so, it's usable for correlation with the Energy Usage Data, visualizations and machine learning algorthms.\n",
    "\n",
    "## Data Source\n",
    "This data was collected using [Meteostat](https://github.com/meteostat/meteostat-python). The Meteostat Python library provides a simple API for accessing open weather and climate data. The historical observations and statistics are collected by Meteostat from different public interfaces, most of which are governmental.\n",
    "\n",
    "Among the data sources are national weather services like the National Oceanic and Atmospheric Administration (NOAA) and Germany's national meteorological service (DWD)."
   ]
  },
  {
   "cell_type": "markdown",
   "metadata": {},
   "source": [
    "# Goals\n",
    "* become familiar with the dataset\n",
    "* remove redundant data\n",
    "* clean anomalous data"
   ]
  },
  {
   "cell_type": "markdown",
   "metadata": {},
   "source": [
    "###  src: [Meteostat Documentation](https://dev.meteostat.net/python/hourly.html#data-structure)\n",
    "\n",
    "| | | |\n",
    "|-|-|-|\n",
    "|**Column**|**Description**|**Type**|\n",
    "|**station**|Meteostat ID of the weather station (only if query refers to multiple stations)|String|\n",
    "|**time**|datetime of the observation|Datetime64|\n",
    "|**temp**|air temperature in *°C*|Float64|\n",
    "|**dwpt**|dew point in *°C*|Float64|\n",
    "|**rhum**|relative humidity in percent (*%*)|Float64|\n",
    "|**prcp**|one hour precipitation total in *mm*|Float64|\n",
    "|**snow**|snow depth in *mm*|Float64|\n",
    "|**wdir**|average wind direction in degrees (*°*)|Float64|\n",
    "|**wspd**|average wind speed in *km/h*|Float64|\n",
    "|**wpgt**|peak wind gust in *km/h*|Float64|\n",
    "|**pres**|average sea-level air pressure in *hPa*|Float64|\n",
    "|**tsun**|one hour sunshine total in minutes (*m*)|Float64|\n",
    "|**coco**|[weather condition code](https://dev.meteostat.net/formats.html#weather-condition-codes) |Float64|"
   ]
  },
  {
   "cell_type": "code",
   "execution_count": 2,
   "metadata": {},
   "outputs": [],
   "source": [
    "import pandas as pd\n",
    "import numpy as np"
   ]
  },
  {
   "cell_type": "code",
   "execution_count": 3,
   "metadata": {},
   "outputs": [
    {
     "name": "stdout",
     "output_type": "stream",
     "text": [
      "<class 'pandas.core.frame.DataFrame'>\n",
      "RangeIndex: 8785 entries, 0 to 8784\n",
      "Data columns (total 12 columns):\n",
      " #   Column  Non-Null Count  Dtype  \n",
      "---  ------  --------------  -----  \n",
      " 0   time    8785 non-null   object \n",
      " 1   temp    8785 non-null   float64\n",
      " 2   dwpt    8785 non-null   float64\n",
      " 3   rhum    8785 non-null   float64\n",
      " 4   prcp    8785 non-null   float64\n",
      " 5   snow    0 non-null      float64\n",
      " 6   wdir    8785 non-null   float64\n",
      " 7   wspd    8785 non-null   float64\n",
      " 8   wpgt    0 non-null      float64\n",
      " 9   pres    8785 non-null   float64\n",
      " 10  tsun    0 non-null      float64\n",
      " 11  coco    8785 non-null   float64\n",
      "dtypes: float64(11), object(1)\n",
      "memory usage: 823.7+ KB\n"
     ]
    }
   ],
   "source": [
    "# Import the energy use spreadsheet from the 'data' directory\n",
    "\n",
    "# Define the directory path and the regular expression pattern\n",
    "import glob\n",
    "directory_path = \"./data\"\n",
    "file_pattern = \"weather_*.csv\"\n",
    "\n",
    "# Use glob.glob to match filenames based on the pattern\n",
    "file_path = glob.glob(f\"{directory_path}/{file_pattern}\")[0]\n",
    "weather_df_raw = pd.read_csv(filepath_or_buffer=file_path)\n",
    "weather_df_raw.info()"
   ]
  },
  {
   "cell_type": "code",
   "execution_count": 4,
   "metadata": {
    "scrolled": true
   },
   "outputs": [
    {
     "data": {
      "text/html": [
       "<div>\n",
       "<style scoped>\n",
       "    .dataframe tbody tr th:only-of-type {\n",
       "        vertical-align: middle;\n",
       "    }\n",
       "\n",
       "    .dataframe tbody tr th {\n",
       "        vertical-align: top;\n",
       "    }\n",
       "\n",
       "    .dataframe thead th {\n",
       "        text-align: right;\n",
       "    }\n",
       "</style>\n",
       "<table border=\"1\" class=\"dataframe\">\n",
       "  <thead>\n",
       "    <tr style=\"text-align: right;\">\n",
       "      <th></th>\n",
       "      <th>time</th>\n",
       "      <th>temp</th>\n",
       "      <th>dwpt</th>\n",
       "      <th>rhum</th>\n",
       "      <th>prcp</th>\n",
       "      <th>snow</th>\n",
       "      <th>wdir</th>\n",
       "      <th>wspd</th>\n",
       "      <th>wpgt</th>\n",
       "      <th>pres</th>\n",
       "      <th>tsun</th>\n",
       "      <th>coco</th>\n",
       "    </tr>\n",
       "  </thead>\n",
       "  <tbody>\n",
       "    <tr>\n",
       "      <th>0</th>\n",
       "      <td>2022-10-21 00:00:00</td>\n",
       "      <td>13.0</td>\n",
       "      <td>1.1</td>\n",
       "      <td>44.0</td>\n",
       "      <td>0.0</td>\n",
       "      <td>NaN</td>\n",
       "      <td>190.0</td>\n",
       "      <td>7.6</td>\n",
       "      <td>NaN</td>\n",
       "      <td>1008.0</td>\n",
       "      <td>NaN</td>\n",
       "      <td>3.0</td>\n",
       "    </tr>\n",
       "    <tr>\n",
       "      <th>1</th>\n",
       "      <td>2022-10-21 01:00:00</td>\n",
       "      <td>10.7</td>\n",
       "      <td>1.0</td>\n",
       "      <td>51.0</td>\n",
       "      <td>0.0</td>\n",
       "      <td>NaN</td>\n",
       "      <td>160.0</td>\n",
       "      <td>7.6</td>\n",
       "      <td>NaN</td>\n",
       "      <td>1008.0</td>\n",
       "      <td>NaN</td>\n",
       "      <td>3.0</td>\n",
       "    </tr>\n",
       "    <tr>\n",
       "      <th>2</th>\n",
       "      <td>2022-10-21 02:00:00</td>\n",
       "      <td>9.0</td>\n",
       "      <td>1.5</td>\n",
       "      <td>59.0</td>\n",
       "      <td>0.0</td>\n",
       "      <td>NaN</td>\n",
       "      <td>180.0</td>\n",
       "      <td>5.4</td>\n",
       "      <td>NaN</td>\n",
       "      <td>1008.0</td>\n",
       "      <td>NaN</td>\n",
       "      <td>3.0</td>\n",
       "    </tr>\n",
       "    <tr>\n",
       "      <th>3</th>\n",
       "      <td>2022-10-21 03:00:00</td>\n",
       "      <td>9.0</td>\n",
       "      <td>1.5</td>\n",
       "      <td>59.0</td>\n",
       "      <td>0.0</td>\n",
       "      <td>NaN</td>\n",
       "      <td>180.0</td>\n",
       "      <td>5.4</td>\n",
       "      <td>NaN</td>\n",
       "      <td>1008.0</td>\n",
       "      <td>NaN</td>\n",
       "      <td>3.0</td>\n",
       "    </tr>\n",
       "    <tr>\n",
       "      <th>4</th>\n",
       "      <td>2022-10-21 04:00:00</td>\n",
       "      <td>7.6</td>\n",
       "      <td>1.5</td>\n",
       "      <td>65.0</td>\n",
       "      <td>0.0</td>\n",
       "      <td>NaN</td>\n",
       "      <td>170.0</td>\n",
       "      <td>5.4</td>\n",
       "      <td>NaN</td>\n",
       "      <td>1008.0</td>\n",
       "      <td>NaN</td>\n",
       "      <td>1.0</td>\n",
       "    </tr>\n",
       "  </tbody>\n",
       "</table>\n",
       "</div>"
      ],
      "text/plain": [
       "                  time  temp  dwpt  rhum  prcp  snow   wdir  wspd  wpgt  \\\n",
       "0  2022-10-21 00:00:00  13.0   1.1  44.0   0.0   NaN  190.0   7.6   NaN   \n",
       "1  2022-10-21 01:00:00  10.7   1.0  51.0   0.0   NaN  160.0   7.6   NaN   \n",
       "2  2022-10-21 02:00:00   9.0   1.5  59.0   0.0   NaN  180.0   5.4   NaN   \n",
       "3  2022-10-21 03:00:00   9.0   1.5  59.0   0.0   NaN  180.0   5.4   NaN   \n",
       "4  2022-10-21 04:00:00   7.6   1.5  65.0   0.0   NaN  170.0   5.4   NaN   \n",
       "\n",
       "     pres  tsun  coco  \n",
       "0  1008.0   NaN   3.0  \n",
       "1  1008.0   NaN   3.0  \n",
       "2  1008.0   NaN   3.0  \n",
       "3  1008.0   NaN   3.0  \n",
       "4  1008.0   NaN   1.0  "
      ]
     },
     "execution_count": 4,
     "metadata": {},
     "output_type": "execute_result"
    }
   ],
   "source": [
    "weather_df_raw.head()"
   ]
  },
  {
   "cell_type": "markdown",
   "metadata": {},
   "source": [
    "# Observations & TODOs\n",
    "- [x] lookup exact meaning behind columns: : **dwpt, rhum, coco**\n",
    "- [x] **snow, wpgt, tsun** seem empty. **verify** emptiness & remove.\n",
    "- [x] **time** needs to be **converted** to datetime objs\n",
    "- [x] **time** intervals seem to be all the same. **verify** no gaps in information\n",
    "- [x] **wspd, wdir** should be both be 0 together, **verify** these instances\n",
    "- [x] **coco** seems to be whole numbers, **convert** to int64\n",
    "- [x] **coco** could also be represented by a informative categorical string variable, implement\n",
    "- [x] **verify** **coco** weather descriptions are **consistent** with the data. e.g. \"Light Rain\" has less precipitation than \"Rain\""
   ]
  },
  {
   "cell_type": "markdown",
   "metadata": {},
   "source": [
    "## Deeper Explaination of Columns: rhum, coco, dwpt\n",
    "### **rhum**\n",
    "**[Relative humidity](https://simple.wikipedia.org/wiki/Relative_humidity)**: how much humidity is present in the air, compared to how much there could be. % of water in air possible.\n",
    "### **coco**\n",
    "observed weather condition. METAR reports, issued by weather stations located at airports, only report significant weather events. Also, some weather stations do not provide weather condition data at all.\n",
    "### **dwpt**\n",
    "**[dew point](https://en.wikipedia.org/wiki/Dew_point)** is the temperature of a body of air that it must become cooled to become saturated with water vapor. Cooling reduces the air's moisture capacity and the water vapor condenses to form dew. This depends on the pressure and humidity. Graph: [Maximum Saturation Fraction of Water in Air at Sea Level](https://upload.wikimedia.org/wikipedia/commons/9/91/Dewpoint.jpg)"
   ]
  },
  {
   "attachments": {
    "image.png": {
     "image/png": "[encoded data removed]"
    }
   },
   "cell_type": "markdown",
   "metadata": {},
   "source": [
    "![image.png](attachment:image.png)"
   ]
  },
  {
   "cell_type": "code",
   "execution_count": 5,
   "metadata": {},
   "outputs": [],
   "source": [
    "# copy raw data into a df to be cleaned\n",
    "weather_df = weather_df_raw.copy()"
   ]
  },
  {
   "cell_type": "code",
   "execution_count": 6,
   "metadata": {},
   "outputs": [
    {
     "name": "stdout",
     "output_type": "stream",
     "text": [
      "[array([nan]), array([nan]), array([nan])]\n"
     ]
    }
   ],
   "source": [
    "# Printing all the unique values of null columns\n",
    "# verifying snow, wpgt & tsun seem to be empty columns,\n",
    "print([weather_df['snow'].unique(),\n",
    "    weather_df['wpgt'].unique(),\n",
    "    weather_df['tsun'].unique()])"
   ]
  },
  {
   "cell_type": "code",
   "execution_count": 7,
   "metadata": {},
   "outputs": [
    {
     "name": "stdout",
     "output_type": "stream",
     "text": [
      "Index(['time', 'temp', 'dwpt', 'rhum', 'prcp', 'wdir', 'wspd', 'pres', 'coco'], dtype='object')\n"
     ]
    }
   ],
   "source": [
    "# removed ols with no information (variance)\n",
    "weather_df = weather_df.drop(['snow', 'wpgt', 'tsun'], axis=1)\n",
    "print(weather_df.columns)"
   ]
  },
  {
   "cell_type": "code",
   "execution_count": 8,
   "metadata": {},
   "outputs": [],
   "source": [
    "# properly format dates into datetime objs\n",
    "weather_df['time'] = pd.to_datetime(weather_df['time'], infer_datetime_format=True)"
   ]
  },
  {
   "cell_type": "code",
   "execution_count": 9,
   "metadata": {
    "scrolled": true
   },
   "outputs": [
    {
     "name": "stdout",
     "output_type": "stream",
     "text": [
      "0 days 01:00:00    8784\n",
      "Name: time, dtype: int64\n"
     ]
    }
   ],
   "source": [
    "# verify there are no time gaps in the data's rows\n",
    "# Sort the DataFrame by the 'time' column\n",
    "weather_df = weather_df.sort_values(by='time')\n",
    "\n",
    "# Calculate the time difference between consecutive rows\n",
    "time_diffs = weather_df['time'].diff()\n",
    "print(time_diffs.value_counts())"
   ]
  },
  {
   "cell_type": "code",
   "execution_count": 10,
   "metadata": {},
   "outputs": [
    {
     "name": "stdout",
     "output_type": "stream",
     "text": [
      "start_date:  2022-10-21 00:00:00\n",
      "end_date:  2023-10-22 00:00:00\n"
     ]
    }
   ],
   "source": [
    "start_date = weather_df['time'].min()\n",
    "end_date = weather_df['time'].max()\n",
    "print( \"start_date: \", start_date)\n",
    "print( \"end_date: \", end_date)"
   ]
  },
  {
   "cell_type": "code",
   "execution_count": 11,
   "metadata": {},
   "outputs": [
    {
     "name": "stdout",
     "output_type": "stream",
     "text": [
      "[0.]\n",
      "[0.]\n"
     ]
    }
   ],
   "source": [
    "# verify wspd, wdir should be both be 0 together\n",
    "# print the other's value when one of these were 0\n",
    "print(weather_df[weather_df['wspd']==0]['wdir'].unique())\n",
    "print(weather_df[weather_df['wdir']==0]['wspd'].unique())"
   ]
  },
  {
   "cell_type": "markdown",
   "metadata": {},
   "source": [
    "## Create a clearer Weather Condition column\n",
    "Remapping the coco column to their respecitive [weather condition code](https://dev.meteostat.net/formats.html#weather-condition-codes) description."
   ]
  },
  {
   "cell_type": "code",
   "execution_count": 12,
   "metadata": {
    "scrolled": false
   },
   "outputs": [
    {
     "data": {
      "text/plain": [
       "array([ 3.,  1.,  2.,  7.,  8.,  9.,  5., 17., 14., 15., 12., 21., 18.,\n",
       "       13.])"
      ]
     },
     "execution_count": 12,
     "metadata": {},
     "output_type": "execute_result"
    }
   ],
   "source": [
    "weather_df['coco'].unique()"
   ]
  },
  {
   "cell_type": "code",
   "execution_count": 13,
   "metadata": {},
   "outputs": [
    {
     "data": {
      "text/plain": [
       "array([ 3,  1,  2,  7,  8,  9,  5, 17, 14, 15, 12, 21, 18, 13])"
      ]
     },
     "execution_count": 13,
     "metadata": {},
     "output_type": "execute_result"
    }
   ],
   "source": [
    "# convert coco col to it's proper type\n",
    "weather_df['coco'] = weather_df['coco'].astype('int64')\n",
    "weather_df['coco'].unique()"
   ]
  },
  {
   "cell_type": "code",
   "execution_count": 14,
   "metadata": {},
   "outputs": [
    {
     "data": {
      "text/plain": [
       "array(['Cloudy', 'Clear', 'Fair', 'Light Rain', 'Rain', 'Heavy Rain',\n",
       "       'Fog', 'Rain Shower', 'Light Snowfall', 'Snowfall', 'Sleet',\n",
       "       'Snow Shower', 'Heavy Rain Shower', 'Heavy Sleet'], dtype=object)"
      ]
     },
     "execution_count": 14,
     "metadata": {},
     "output_type": "execute_result"
    }
   ],
   "source": [
    "# Code\tWeather Condition\n",
    "coco_map = {\n",
    "    1: \"Clear\",\n",
    "    2: \"Fair\",\n",
    "    3: \"Cloudy\",\n",
    "    4: \"Overcast\",\n",
    "    5: \"Fog\",\n",
    "    6: \"Freezing Fog\",\n",
    "    7: \"Light Rain\",\n",
    "    8: \"Rain\",\n",
    "    9: \"Heavy Rain\",\n",
    "    10: \"Freezing Rain\",\n",
    "    11: \"Heavy Freezing Rain\",\n",
    "    12: \"Sleet\",\n",
    "    13: \"Heavy Sleet\",\n",
    "    14: \"Light Snowfall\",\n",
    "    15: \"Snowfall\",\n",
    "    16: \"Heavy Snowfall\",\n",
    "    17: \"Rain Shower\",\n",
    "    18: \"Heavy Rain Shower\",\n",
    "    19: \"Sleet Shower\",\n",
    "    20: \"Heavy Sleet Shower\",\n",
    "    21: \"Snow Shower\",\n",
    "    22: \"Heavy Snow Shower\",\n",
    "    23: \"Lightning\",\n",
    "    24: \"Hail\",\n",
    "    25: \"Thunderstorm\",\n",
    "    26: \"Heavy Thunderstorm\",\n",
    "    27: \"Storm\"\n",
    "}\n",
    "\n",
    "weather_df['weather'] = weather_df['coco'].replace(coco_map)\n",
    "weather_df['weather'].unique()"
   ]
  },
  {
   "cell_type": "code",
   "execution_count": 15,
   "metadata": {
    "scrolled": true
   },
   "outputs": [
    {
     "data": {
      "text/html": [
       "<div>\n",
       "<style scoped>\n",
       "    .dataframe tbody tr th:only-of-type {\n",
       "        vertical-align: middle;\n",
       "    }\n",
       "\n",
       "    .dataframe tbody tr th {\n",
       "        vertical-align: top;\n",
       "    }\n",
       "\n",
       "    .dataframe thead th {\n",
       "        text-align: right;\n",
       "    }\n",
       "</style>\n",
       "<table border=\"1\" class=\"dataframe\">\n",
       "  <thead>\n",
       "    <tr style=\"text-align: right;\">\n",
       "      <th></th>\n",
       "      <th>time</th>\n",
       "      <th>temp</th>\n",
       "      <th>dwpt</th>\n",
       "      <th>rhum</th>\n",
       "      <th>prcp</th>\n",
       "      <th>wdir</th>\n",
       "      <th>wspd</th>\n",
       "      <th>pres</th>\n",
       "      <th>coco</th>\n",
       "      <th>weather</th>\n",
       "    </tr>\n",
       "  </thead>\n",
       "  <tbody>\n",
       "    <tr>\n",
       "      <th>0</th>\n",
       "      <td>2022-10-21 00:00:00</td>\n",
       "      <td>13.0</td>\n",
       "      <td>1.1</td>\n",
       "      <td>44.0</td>\n",
       "      <td>0.0</td>\n",
       "      <td>190.0</td>\n",
       "      <td>7.6</td>\n",
       "      <td>1008.0</td>\n",
       "      <td>3</td>\n",
       "      <td>Cloudy</td>\n",
       "    </tr>\n",
       "    <tr>\n",
       "      <th>1</th>\n",
       "      <td>2022-10-21 01:00:00</td>\n",
       "      <td>10.7</td>\n",
       "      <td>1.0</td>\n",
       "      <td>51.0</td>\n",
       "      <td>0.0</td>\n",
       "      <td>160.0</td>\n",
       "      <td>7.6</td>\n",
       "      <td>1008.0</td>\n",
       "      <td>3</td>\n",
       "      <td>Cloudy</td>\n",
       "    </tr>\n",
       "    <tr>\n",
       "      <th>2</th>\n",
       "      <td>2022-10-21 02:00:00</td>\n",
       "      <td>9.0</td>\n",
       "      <td>1.5</td>\n",
       "      <td>59.0</td>\n",
       "      <td>0.0</td>\n",
       "      <td>180.0</td>\n",
       "      <td>5.4</td>\n",
       "      <td>1008.0</td>\n",
       "      <td>3</td>\n",
       "      <td>Cloudy</td>\n",
       "    </tr>\n",
       "    <tr>\n",
       "      <th>3</th>\n",
       "      <td>2022-10-21 03:00:00</td>\n",
       "      <td>9.0</td>\n",
       "      <td>1.5</td>\n",
       "      <td>59.0</td>\n",
       "      <td>0.0</td>\n",
       "      <td>180.0</td>\n",
       "      <td>5.4</td>\n",
       "      <td>1008.0</td>\n",
       "      <td>3</td>\n",
       "      <td>Cloudy</td>\n",
       "    </tr>\n",
       "    <tr>\n",
       "      <th>4</th>\n",
       "      <td>2022-10-21 04:00:00</td>\n",
       "      <td>7.6</td>\n",
       "      <td>1.5</td>\n",
       "      <td>65.0</td>\n",
       "      <td>0.0</td>\n",
       "      <td>170.0</td>\n",
       "      <td>5.4</td>\n",
       "      <td>1008.0</td>\n",
       "      <td>1</td>\n",
       "      <td>Clear</td>\n",
       "    </tr>\n",
       "  </tbody>\n",
       "</table>\n",
       "</div>"
      ],
      "text/plain": [
       "                 time  temp  dwpt  rhum  prcp   wdir  wspd    pres  coco  \\\n",
       "0 2022-10-21 00:00:00  13.0   1.1  44.0   0.0  190.0   7.6  1008.0     3   \n",
       "1 2022-10-21 01:00:00  10.7   1.0  51.0   0.0  160.0   7.6  1008.0     3   \n",
       "2 2022-10-21 02:00:00   9.0   1.5  59.0   0.0  180.0   5.4  1008.0     3   \n",
       "3 2022-10-21 03:00:00   9.0   1.5  59.0   0.0  180.0   5.4  1008.0     3   \n",
       "4 2022-10-21 04:00:00   7.6   1.5  65.0   0.0  170.0   5.4  1008.0     1   \n",
       "\n",
       "  weather  \n",
       "0  Cloudy  \n",
       "1  Cloudy  \n",
       "2  Cloudy  \n",
       "3  Cloudy  \n",
       "4   Clear  "
      ]
     },
     "execution_count": 15,
     "metadata": {},
     "output_type": "execute_result"
    }
   ],
   "source": [
    "weather_df.head()"
   ]
  },
  {
   "cell_type": "markdown",
   "metadata": {},
   "source": [
    "## Verifying coco weather descriptions are consistent\n",
    "* \"Light Rain\" < \"Rain\" < \"Heavy Rain\" < \"Heavy Rain Shower\"\n",
    "* \"Light Snowfall\" < \"Snowfall\""
   ]
  },
  {
   "cell_type": "code",
   "execution_count": 16,
   "metadata": {
    "scrolled": true
   },
   "outputs": [
    {
     "name": "stdout",
     "output_type": "stream",
     "text": [
      "                    max  min\n",
      "weather                     \n",
      "Heavy Rain         16.4  0.3\n",
      "Heavy Rain Shower   8.9  0.3\n",
      "Light Rain          7.1  0.1\n",
      "Light Snowfall      0.3  0.1\n",
      "Rain               26.2  0.2\n",
      "Rain Shower        10.7  0.1\n",
      "Snow Shower         0.2  0.2\n",
      "Snowfall            1.0  0.3\n"
     ]
    }
   ],
   "source": [
    "# Create a pivot table for minimum and maximum precipitation 'prcp' values for each category in 'weather'\n",
    "filtered_weather_df = weather_df[weather_df['weather'].str.contains('Rain|Snow')]\n",
    "weather_pivot = filtered_weather_df.pivot_table(index='weather', values='prcp', aggfunc={'prcp': ['min', 'max']})\n",
    "print(weather_pivot)"
   ]
  },
  {
   "cell_type": "markdown",
   "metadata": {},
   "source": [
    "## coco weather quality descriptions are NOT consistent"
   ]
  },
  {
   "cell_type": "code",
   "execution_count": 17,
   "metadata": {
    "scrolled": true
   },
   "outputs": [
    {
     "data": {
      "text/html": [
       "<div>\n",
       "<style scoped>\n",
       "    .dataframe tbody tr th:only-of-type {\n",
       "        vertical-align: middle;\n",
       "    }\n",
       "\n",
       "    .dataframe tbody tr th {\n",
       "        vertical-align: top;\n",
       "    }\n",
       "\n",
       "    .dataframe thead th {\n",
       "        text-align: right;\n",
       "    }\n",
       "</style>\n",
       "<table border=\"1\" class=\"dataframe\">\n",
       "  <thead>\n",
       "    <tr style=\"text-align: right;\">\n",
       "      <th></th>\n",
       "      <th>time</th>\n",
       "      <th>temp</th>\n",
       "      <th>dwpt</th>\n",
       "      <th>rhum</th>\n",
       "      <th>prcp</th>\n",
       "      <th>wdir</th>\n",
       "      <th>wspd</th>\n",
       "      <th>pres</th>\n",
       "    </tr>\n",
       "  </thead>\n",
       "  <tbody>\n",
       "    <tr>\n",
       "      <th>0</th>\n",
       "      <td>2022-10-21 00:00:00</td>\n",
       "      <td>13.0</td>\n",
       "      <td>1.1</td>\n",
       "      <td>44.0</td>\n",
       "      <td>0.0</td>\n",
       "      <td>190.0</td>\n",
       "      <td>7.6</td>\n",
       "      <td>1008.0</td>\n",
       "    </tr>\n",
       "    <tr>\n",
       "      <th>1</th>\n",
       "      <td>2022-10-21 01:00:00</td>\n",
       "      <td>10.7</td>\n",
       "      <td>1.0</td>\n",
       "      <td>51.0</td>\n",
       "      <td>0.0</td>\n",
       "      <td>160.0</td>\n",
       "      <td>7.6</td>\n",
       "      <td>1008.0</td>\n",
       "    </tr>\n",
       "    <tr>\n",
       "      <th>2</th>\n",
       "      <td>2022-10-21 02:00:00</td>\n",
       "      <td>9.0</td>\n",
       "      <td>1.5</td>\n",
       "      <td>59.0</td>\n",
       "      <td>0.0</td>\n",
       "      <td>180.0</td>\n",
       "      <td>5.4</td>\n",
       "      <td>1008.0</td>\n",
       "    </tr>\n",
       "    <tr>\n",
       "      <th>3</th>\n",
       "      <td>2022-10-21 03:00:00</td>\n",
       "      <td>9.0</td>\n",
       "      <td>1.5</td>\n",
       "      <td>59.0</td>\n",
       "      <td>0.0</td>\n",
       "      <td>180.0</td>\n",
       "      <td>5.4</td>\n",
       "      <td>1008.0</td>\n",
       "    </tr>\n",
       "    <tr>\n",
       "      <th>4</th>\n",
       "      <td>2022-10-21 04:00:00</td>\n",
       "      <td>7.6</td>\n",
       "      <td>1.5</td>\n",
       "      <td>65.0</td>\n",
       "      <td>0.0</td>\n",
       "      <td>170.0</td>\n",
       "      <td>5.4</td>\n",
       "      <td>1008.0</td>\n",
       "    </tr>\n",
       "  </tbody>\n",
       "</table>\n",
       "</div>"
      ],
      "text/plain": [
       "                 time  temp  dwpt  rhum  prcp   wdir  wspd    pres\n",
       "0 2022-10-21 00:00:00  13.0   1.1  44.0   0.0  190.0   7.6  1008.0\n",
       "1 2022-10-21 01:00:00  10.7   1.0  51.0   0.0  160.0   7.6  1008.0\n",
       "2 2022-10-21 02:00:00   9.0   1.5  59.0   0.0  180.0   5.4  1008.0\n",
       "3 2022-10-21 03:00:00   9.0   1.5  59.0   0.0  180.0   5.4  1008.0\n",
       "4 2022-10-21 04:00:00   7.6   1.5  65.0   0.0  170.0   5.4  1008.0"
      ]
     },
     "execution_count": 17,
     "metadata": {},
     "output_type": "execute_result"
    }
   ],
   "source": [
    "weather_df = weather_df.drop(['weather', 'coco'], axis='columns')\n",
    "weather_df.head()"
   ]
  },
  {
   "cell_type": "code",
   "execution_count": 20,
   "metadata": {
    "scrolled": false
   },
   "outputs": [
    {
     "data": {
      "text/html": [
       "<div>\n",
       "<style scoped>\n",
       "    .dataframe tbody tr th:only-of-type {\n",
       "        vertical-align: middle;\n",
       "    }\n",
       "\n",
       "    .dataframe tbody tr th {\n",
       "        vertical-align: top;\n",
       "    }\n",
       "\n",
       "    .dataframe thead th {\n",
       "        text-align: right;\n",
       "    }\n",
       "</style>\n",
       "<table border=\"1\" class=\"dataframe\">\n",
       "  <thead>\n",
       "    <tr style=\"text-align: right;\">\n",
       "      <th></th>\n",
       "      <th>temp</th>\n",
       "      <th>dwpt</th>\n",
       "      <th>rhum</th>\n",
       "      <th>prcp</th>\n",
       "      <th>wdir</th>\n",
       "      <th>wspd</th>\n",
       "      <th>pres</th>\n",
       "    </tr>\n",
       "    <tr>\n",
       "      <th>time</th>\n",
       "      <th></th>\n",
       "      <th></th>\n",
       "      <th></th>\n",
       "      <th></th>\n",
       "      <th></th>\n",
       "      <th></th>\n",
       "      <th></th>\n",
       "    </tr>\n",
       "  </thead>\n",
       "  <tbody>\n",
       "    <tr>\n",
       "      <th>2022-10-21 00:00:00</th>\n",
       "      <td>13.0</td>\n",
       "      <td>1.1</td>\n",
       "      <td>44.0</td>\n",
       "      <td>0.0</td>\n",
       "      <td>190.0</td>\n",
       "      <td>7.6</td>\n",
       "      <td>1008.0</td>\n",
       "    </tr>\n",
       "    <tr>\n",
       "      <th>2022-10-21 01:00:00</th>\n",
       "      <td>10.7</td>\n",
       "      <td>1.0</td>\n",
       "      <td>51.0</td>\n",
       "      <td>0.0</td>\n",
       "      <td>160.0</td>\n",
       "      <td>7.6</td>\n",
       "      <td>1008.0</td>\n",
       "    </tr>\n",
       "    <tr>\n",
       "      <th>2022-10-21 02:00:00</th>\n",
       "      <td>9.0</td>\n",
       "      <td>1.5</td>\n",
       "      <td>59.0</td>\n",
       "      <td>0.0</td>\n",
       "      <td>180.0</td>\n",
       "      <td>5.4</td>\n",
       "      <td>1008.0</td>\n",
       "    </tr>\n",
       "    <tr>\n",
       "      <th>2022-10-21 03:00:00</th>\n",
       "      <td>9.0</td>\n",
       "      <td>1.5</td>\n",
       "      <td>59.0</td>\n",
       "      <td>0.0</td>\n",
       "      <td>180.0</td>\n",
       "      <td>5.4</td>\n",
       "      <td>1008.0</td>\n",
       "    </tr>\n",
       "    <tr>\n",
       "      <th>2022-10-21 04:00:00</th>\n",
       "      <td>7.6</td>\n",
       "      <td>1.5</td>\n",
       "      <td>65.0</td>\n",
       "      <td>0.0</td>\n",
       "      <td>170.0</td>\n",
       "      <td>5.4</td>\n",
       "      <td>1008.0</td>\n",
       "    </tr>\n",
       "  </tbody>\n",
       "</table>\n",
       "</div>"
      ],
      "text/plain": [
       "                     temp  dwpt  rhum  prcp   wdir  wspd    pres\n",
       "time                                                            \n",
       "2022-10-21 00:00:00  13.0   1.1  44.0   0.0  190.0   7.6  1008.0\n",
       "2022-10-21 01:00:00  10.7   1.0  51.0   0.0  160.0   7.6  1008.0\n",
       "2022-10-21 02:00:00   9.0   1.5  59.0   0.0  180.0   5.4  1008.0\n",
       "2022-10-21 03:00:00   9.0   1.5  59.0   0.0  180.0   5.4  1008.0\n",
       "2022-10-21 04:00:00   7.6   1.5  65.0   0.0  170.0   5.4  1008.0"
      ]
     },
     "execution_count": 20,
     "metadata": {},
     "output_type": "execute_result"
    }
   ],
   "source": [
    "weather_df.set_index('time', inplace=True)\n",
    "weather_df.head()"
   ]
  },
  {
   "cell_type": "code",
   "execution_count": 21,
   "metadata": {},
   "outputs": [
    {
     "name": "stdout",
     "output_type": "stream",
     "text": [
      "./data/clean_weather_10-21-2022_to_10-22-2023.csv\n"
     ]
    }
   ],
   "source": [
    "# Output cleaned data to a csv\n",
    "insert_i = 7\n",
    "file_path_clean = directory_path + \"/clean_\" + file_path[insert_i:]\n",
    "print(file_path_clean)\n",
    "weather_df.to_csv(file_path_clean)"
   ]
  }
 ],
 "metadata": {
  "environment": {
   "kernel": "python3",
   "name": "pytorch-gpu.1-13.m103",
   "type": "gcloud",
   "uri": "gcr.io/deeplearning-platform-release/pytorch-gpu.1-13:m103"
  },
  "kernelspec": {
   "display_name": "Python 3",
   "language": "python",
   "name": "python3"
  },
  "language_info": {
   "codemirror_mode": {
    "name": "ipython",
    "version": 3
   },
   "file_extension": ".py",
   "mimetype": "text/x-python",
   "name": "python",
   "nbconvert_exporter": "python",
   "pygments_lexer": "ipython3",
   "version": "3.8.10"
  }
 },
 "nbformat": 4,
 "nbformat_minor": 5
}
