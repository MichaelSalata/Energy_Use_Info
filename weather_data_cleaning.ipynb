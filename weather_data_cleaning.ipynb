{
 "cells": [
  {
   "cell_type": "markdown",
   "metadata": {},
   "source": [
    "# Weather Data Cleaning"
   ]
  },
  {
   "cell_type": "markdown",
   "metadata": {},
   "source": [
    "# Introduction\n",
    "This project is meant to gather insights on electricity usage.\n",
    "This step is needed to clean up the raw weather data so, it's usable for correlation with the Energy Usage Data, visualizations and machine learning algorthms.\n",
    "\n",
    "## Data Source\n",
    "This data was collected using [Meteostat](https://github.com/meteostat/meteostat-python). The Meteostat Python library provides a simple API for accessing open weather and climate data. The historical observations and statistics are collected by Meteostat from different public interfaces, most of which are governmental.\n",
    "\n",
    "Among the data sources are national weather services like the National Oceanic and Atmospheric Administration (NOAA) and Germany's national meteorological service (DWD)."
   ]
  },
  {
   "cell_type": "markdown",
   "metadata": {},
   "source": [
    "# Goals\n",
    "* become familiar with the dataset\n",
    "* remove redundant data\n",
    "* clean anomalous data"
   ]
  },
  {
   "cell_type": "markdown",
   "metadata": {},
   "source": [
    "###  src: [Meteostat Documentation](https://dev.meteostat.net/python/hourly.html#data-structure)\n",
    "\n",
    "| | | |\n",
    "|-|-|-|\n",
    "|**Column**|**Description**|**Type**|\n",
    "|**station**|Meteostat ID of the weather station (only if query refers to multiple stations)|String|\n",
    "|**time**|datetime of the observation|Datetime64|\n",
    "|**temp**|air temperature in *°C*|Float64|\n",
    "|**dwpt**|dew point in *°C*|Float64|\n",
    "|**rhum**|relative humidity in percent (*%*)|Float64|\n",
    "|**prcp**|one hour precipitation total in *mm*|Float64|\n",
    "|**snow**|snow depth in *mm*|Float64|\n",
    "|**wdir**|average wind direction in degrees (*°*)|Float64|\n",
    "|**wspd**|average wind speed in *km/h*|Float64|\n",
    "|**wpgt**|peak wind gust in *km/h*|Float64|\n",
    "|**pres**|average sea-level air pressure in *hPa*|Float64|\n",
    "|**tsun**|one hour sunshine total in minutes (*m*)|Float64|\n",
    "|**coco**|[weather condition code](https://dev.meteostat.net/docs/formats.html#weather-condition-codes) |Float64|"
   ]
  },
  {
   "cell_type": "code",
   "execution_count": 2,
   "metadata": {},
   "outputs": [],
   "source": [
    "import pandas as pd\n",
    "import numpy as np"
   ]
  },
  {
   "cell_type": "code",
   "execution_count": 4,
   "metadata": {},
   "outputs": [
    {
     "name": "stdout",
     "output_type": "stream",
     "text": [
      "<class 'pandas.core.frame.DataFrame'>\n",
      "RangeIndex: 8785 entries, 0 to 8784\n",
      "Data columns (total 12 columns):\n",
      " #   Column  Non-Null Count  Dtype  \n",
      "---  ------  --------------  -----  \n",
      " 0   time    8785 non-null   object \n",
      " 1   temp    8785 non-null   float64\n",
      " 2   dwpt    8785 non-null   float64\n",
      " 3   rhum    8785 non-null   float64\n",
      " 4   prcp    8785 non-null   float64\n",
      " 5   snow    0 non-null      float64\n",
      " 6   wdir    8785 non-null   float64\n",
      " 7   wspd    8785 non-null   float64\n",
      " 8   wpgt    0 non-null      float64\n",
      " 9   pres    8785 non-null   float64\n",
      " 10  tsun    0 non-null      float64\n",
      " 11  coco    8785 non-null   float64\n",
      "dtypes: float64(11), object(1)\n",
      "memory usage: 823.7+ KB\n"
     ]
    }
   ],
   "source": [
    "# Import the energy use spreadsheet from the 'data' directory\n",
    "\n",
    "# Define the directory path and the regular expression pattern\n",
    "import glob\n",
    "directory_path = \"./data\"\n",
    "file_pattern = \"weather_*.csv\"\n",
    "\n",
    "# Use glob.glob to match filenames based on the pattern\n",
    "file_path = glob.glob(f\"{directory_path}/{file_pattern}\")[0]\n",
    "weather_df_raw = pd.read_csv(filepath_or_buffer=file_path)\n",
    "weather_df_raw.info()"
   ]
  },
  {
   "cell_type": "code",
   "execution_count": 5,
   "metadata": {
    "scrolled": true
   },
   "outputs": [
    {
     "data": {
      "text/html": [
       "<div>\n",
       "<style scoped>\n",
       "    .dataframe tbody tr th:only-of-type {\n",
       "        vertical-align: middle;\n",
       "    }\n",
       "\n",
       "    .dataframe tbody tr th {\n",
       "        vertical-align: top;\n",
       "    }\n",
       "\n",
       "    .dataframe thead th {\n",
       "        text-align: right;\n",
       "    }\n",
       "</style>\n",
       "<table border=\"1\" class=\"dataframe\">\n",
       "  <thead>\n",
       "    <tr style=\"text-align: right;\">\n",
       "      <th></th>\n",
       "      <th>time</th>\n",
       "      <th>temp</th>\n",
       "      <th>dwpt</th>\n",
       "      <th>rhum</th>\n",
       "      <th>prcp</th>\n",
       "      <th>snow</th>\n",
       "      <th>wdir</th>\n",
       "      <th>wspd</th>\n",
       "      <th>wpgt</th>\n",
       "      <th>pres</th>\n",
       "      <th>tsun</th>\n",
       "      <th>coco</th>\n",
       "    </tr>\n",
       "  </thead>\n",
       "  <tbody>\n",
       "    <tr>\n",
       "      <th>0</th>\n",
       "      <td>2022-10-21 00:00:00</td>\n",
       "      <td>13.0</td>\n",
       "      <td>1.1</td>\n",
       "      <td>44.0</td>\n",
       "      <td>0.0</td>\n",
       "      <td>NaN</td>\n",
       "      <td>190.0</td>\n",
       "      <td>7.6</td>\n",
       "      <td>NaN</td>\n",
       "      <td>1008.0</td>\n",
       "      <td>NaN</td>\n",
       "      <td>3.0</td>\n",
       "    </tr>\n",
       "    <tr>\n",
       "      <th>1</th>\n",
       "      <td>2022-10-21 01:00:00</td>\n",
       "      <td>10.7</td>\n",
       "      <td>1.0</td>\n",
       "      <td>51.0</td>\n",
       "      <td>0.0</td>\n",
       "      <td>NaN</td>\n",
       "      <td>160.0</td>\n",
       "      <td>7.6</td>\n",
       "      <td>NaN</td>\n",
       "      <td>1008.0</td>\n",
       "      <td>NaN</td>\n",
       "      <td>3.0</td>\n",
       "    </tr>\n",
       "    <tr>\n",
       "      <th>2</th>\n",
       "      <td>2022-10-21 02:00:00</td>\n",
       "      <td>9.0</td>\n",
       "      <td>1.5</td>\n",
       "      <td>59.0</td>\n",
       "      <td>0.0</td>\n",
       "      <td>NaN</td>\n",
       "      <td>180.0</td>\n",
       "      <td>5.4</td>\n",
       "      <td>NaN</td>\n",
       "      <td>1008.0</td>\n",
       "      <td>NaN</td>\n",
       "      <td>3.0</td>\n",
       "    </tr>\n",
       "    <tr>\n",
       "      <th>3</th>\n",
       "      <td>2022-10-21 03:00:00</td>\n",
       "      <td>9.0</td>\n",
       "      <td>1.5</td>\n",
       "      <td>59.0</td>\n",
       "      <td>0.0</td>\n",
       "      <td>NaN</td>\n",
       "      <td>180.0</td>\n",
       "      <td>5.4</td>\n",
       "      <td>NaN</td>\n",
       "      <td>1008.0</td>\n",
       "      <td>NaN</td>\n",
       "      <td>3.0</td>\n",
       "    </tr>\n",
       "    <tr>\n",
       "      <th>4</th>\n",
       "      <td>2022-10-21 04:00:00</td>\n",
       "      <td>7.6</td>\n",
       "      <td>1.5</td>\n",
       "      <td>65.0</td>\n",
       "      <td>0.0</td>\n",
       "      <td>NaN</td>\n",
       "      <td>170.0</td>\n",
       "      <td>5.4</td>\n",
       "      <td>NaN</td>\n",
       "      <td>1008.0</td>\n",
       "      <td>NaN</td>\n",
       "      <td>1.0</td>\n",
       "    </tr>\n",
       "  </tbody>\n",
       "</table>\n",
       "</div>"
      ],
      "text/plain": [
       "                  time  temp  dwpt  rhum  prcp  snow   wdir  wspd  wpgt  \\\n",
       "0  2022-10-21 00:00:00  13.0   1.1  44.0   0.0   NaN  190.0   7.6   NaN   \n",
       "1  2022-10-21 01:00:00  10.7   1.0  51.0   0.0   NaN  160.0   7.6   NaN   \n",
       "2  2022-10-21 02:00:00   9.0   1.5  59.0   0.0   NaN  180.0   5.4   NaN   \n",
       "3  2022-10-21 03:00:00   9.0   1.5  59.0   0.0   NaN  180.0   5.4   NaN   \n",
       "4  2022-10-21 04:00:00   7.6   1.5  65.0   0.0   NaN  170.0   5.4   NaN   \n",
       "\n",
       "     pres  tsun  coco  \n",
       "0  1008.0   NaN   3.0  \n",
       "1  1008.0   NaN   3.0  \n",
       "2  1008.0   NaN   3.0  \n",
       "3  1008.0   NaN   3.0  \n",
       "4  1008.0   NaN   1.0  "
      ]
     },
     "execution_count": 5,
     "metadata": {},
     "output_type": "execute_result"
    }
   ],
   "source": [
    "weather_df_raw.head()"
   ]
  },
  {
   "cell_type": "code",
   "execution_count": null,
   "metadata": {},
   "outputs": [],
   "source": [
    "# copy raw data into a df to be cleaned\n",
    "weather_df = weather_df_raw.copy()"
   ]
  },
  {
   "cell_type": "code",
   "execution_count": 7,
   "metadata": {},
   "outputs": [
    {
     "name": "stdout",
     "output_type": "stream",
     "text": [
      "[array([nan]), array([nan]), array([nan])]\n"
     ]
    }
   ],
   "source": [
    "# Printing all the unique values of null columns\n",
    "# verifying snow, wpgt & tsun seem to be empty columns,\n",
    "print([weather_df['snow'].unique(),\n",
    "    weather_df['wpgt'].unique(),\n",
    "    weather_df['tsun'].unique()])"
   ]
  },
  {
   "cell_type": "code",
   "execution_count": 9,
   "metadata": {},
   "outputs": [
    {
     "name": "stdout",
     "output_type": "stream",
     "text": [
      "Index(['time', 'temp', 'dwpt', 'rhum', 'prcp', 'wdir', 'wspd', 'pres', 'coco'], dtype='object')\n"
     ]
    }
   ],
   "source": [
    "weather_df = weather_df.drop(['snow', 'wpgt', 'tsun'], axis=1)\n",
    "print(weather_df.columns)"
   ]
  },
  {
   "cell_type": "markdown",
   "metadata": {},
   "source": [
    "# Observations & TODOs\n",
    "* column titles have a space in them, change to underscore\n",
    "* start-end time intervals seem to be all the same\n",
    "* 'TYPE', 'UNITS', 'NOTES' columns seem to have no variation in values.  aka can be removed.\n",
    "* 'COST' is in text format instead of numeric\n",
    "* 2 columns for date & time can be combined into datetime objs\n",
    "* a usage duration column would likely simplify future data visulization/modeling"
   ]
  }
 ],
 "metadata": {
  "environment": {
   "kernel": "python3",
   "name": "pytorch-gpu.1-13.m103",
   "type": "gcloud",
   "uri": "gcr.io/deeplearning-platform-release/pytorch-gpu.1-13:m103"
  },
  "kernelspec": {
   "display_name": "Python 3",
   "language": "python",
   "name": "python3"
  },
  "language_info": {
   "codemirror_mode": {
    "name": "ipython",
    "version": 3
   },
   "file_extension": ".py",
   "mimetype": "text/x-python",
   "name": "python",
   "nbconvert_exporter": "python",
   "pygments_lexer": "ipython3",
   "version": "3.8.10"
  }
 },
 "nbformat": 4,
 "nbformat_minor": 5
}
