{
 "cells": [
  {
   "cell_type": "markdown",
   "id": "23521af9",
   "metadata": {},
   "source": [
    "# Energy Use Analysis"
   ]
  },
  {
   "cell_type": "markdown",
   "id": "bc36461e",
   "metadata": {},
   "source": [
    "# Introduction\n",
    "This is data from my energy company, ComEd from the past year. 10_22_2022 to 10_22_2023\n",
    "## Goals\n",
    "* become familiar with the columns in the dataset\n",
    "\n",
    "## Source\n",
    "Data from the [My Green Button] (https://secure.comed.com/MyAccount/MyBillUsage/pages/secure/GreenButtonConnectDownloadMyData.aspx) webpage on the ComEd website."
   ]
  },
  {
   "cell_type": "code",
   "execution_count": 59,
   "id": "1407f710",
   "metadata": {},
   "outputs": [],
   "source": [
    "import pandas as pd\n",
    "import numpy as np\n",
    "energy_df = pd.read_csv(filepath_or_buffer=\"energy_use_10_22_22_to_10_22_23.csv\", header=4)"
   ]
  },
  {
   "cell_type": "code",
   "execution_count": 60,
   "id": "1da641bd",
   "metadata": {},
   "outputs": [
    {
     "name": "stdout",
     "output_type": "stream",
     "text": [
      "Index(['TYPE', 'DATE', 'START TIME', 'END TIME', 'USAGE', 'UNITS', 'COST',\n",
      "       'NOTES'],\n",
      "      dtype='object')\n"
     ]
    },
    {
     "data": {
      "text/html": [
       "<div>\n",
       "<style scoped>\n",
       "    .dataframe tbody tr th:only-of-type {\n",
       "        vertical-align: middle;\n",
       "    }\n",
       "\n",
       "    .dataframe tbody tr th {\n",
       "        vertical-align: top;\n",
       "    }\n",
       "\n",
       "    .dataframe thead th {\n",
       "        text-align: right;\n",
       "    }\n",
       "</style>\n",
       "<table border=\"1\" class=\"dataframe\">\n",
       "  <thead>\n",
       "    <tr style=\"text-align: right;\">\n",
       "      <th></th>\n",
       "      <th>TYPE</th>\n",
       "      <th>DATE</th>\n",
       "      <th>START TIME</th>\n",
       "      <th>END TIME</th>\n",
       "      <th>USAGE</th>\n",
       "      <th>UNITS</th>\n",
       "      <th>COST</th>\n",
       "      <th>NOTES</th>\n",
       "    </tr>\n",
       "  </thead>\n",
       "  <tbody>\n",
       "    <tr>\n",
       "      <th>0</th>\n",
       "      <td>Electric usage</td>\n",
       "      <td>2022-10-22</td>\n",
       "      <td>00:00</td>\n",
       "      <td>00:29</td>\n",
       "      <td>0.11</td>\n",
       "      <td>kWh</td>\n",
       "      <td>$0.01</td>\n",
       "      <td>NaN</td>\n",
       "    </tr>\n",
       "    <tr>\n",
       "      <th>1</th>\n",
       "      <td>Electric usage</td>\n",
       "      <td>2022-10-22</td>\n",
       "      <td>00:30</td>\n",
       "      <td>00:59</td>\n",
       "      <td>0.13</td>\n",
       "      <td>kWh</td>\n",
       "      <td>$0.02</td>\n",
       "      <td>NaN</td>\n",
       "    </tr>\n",
       "    <tr>\n",
       "      <th>2</th>\n",
       "      <td>Electric usage</td>\n",
       "      <td>2022-10-22</td>\n",
       "      <td>01:00</td>\n",
       "      <td>01:29</td>\n",
       "      <td>0.09</td>\n",
       "      <td>kWh</td>\n",
       "      <td>$0.01</td>\n",
       "      <td>NaN</td>\n",
       "    </tr>\n",
       "    <tr>\n",
       "      <th>3</th>\n",
       "      <td>Electric usage</td>\n",
       "      <td>2022-10-22</td>\n",
       "      <td>01:30</td>\n",
       "      <td>01:59</td>\n",
       "      <td>0.20</td>\n",
       "      <td>kWh</td>\n",
       "      <td>$0.02</td>\n",
       "      <td>NaN</td>\n",
       "    </tr>\n",
       "    <tr>\n",
       "      <th>4</th>\n",
       "      <td>Electric usage</td>\n",
       "      <td>2022-10-22</td>\n",
       "      <td>02:00</td>\n",
       "      <td>02:29</td>\n",
       "      <td>0.10</td>\n",
       "      <td>kWh</td>\n",
       "      <td>$0.01</td>\n",
       "      <td>NaN</td>\n",
       "    </tr>\n",
       "  </tbody>\n",
       "</table>\n",
       "</div>"
      ],
      "text/plain": [
       "             TYPE        DATE START TIME END TIME  USAGE UNITS   COST  NOTES\n",
       "0  Electric usage  2022-10-22      00:00    00:29   0.11   kWh  $0.01    NaN\n",
       "1  Electric usage  2022-10-22      00:30    00:59   0.13   kWh  $0.02    NaN\n",
       "2  Electric usage  2022-10-22      01:00    01:29   0.09   kWh  $0.01    NaN\n",
       "3  Electric usage  2022-10-22      01:30    01:59   0.20   kWh  $0.02    NaN\n",
       "4  Electric usage  2022-10-22      02:00    02:29   0.10   kWh  $0.01    NaN"
      ]
     },
     "execution_count": 60,
     "metadata": {},
     "output_type": "execute_result"
    }
   ],
   "source": [
    "print(energy_df.columns)\n",
    "energy_df.head()"
   ]
  },
  {
   "cell_type": "code",
   "execution_count": 61,
   "id": "b68cadbc",
   "metadata": {
    "scrolled": true
   },
   "outputs": [
    {
     "name": "stdout",
     "output_type": "stream",
     "text": [
      "<class 'pandas.core.frame.DataFrame'>\n",
      "RangeIndex: 17520 entries, 0 to 17519\n",
      "Data columns (total 8 columns):\n",
      " #   Column      Non-Null Count  Dtype  \n",
      "---  ------      --------------  -----  \n",
      " 0   TYPE        17520 non-null  object \n",
      " 1   DATE        17520 non-null  object \n",
      " 2   START TIME  17520 non-null  object \n",
      " 3   END TIME    17520 non-null  object \n",
      " 4   USAGE       17520 non-null  float64\n",
      " 5   UNITS       17520 non-null  object \n",
      " 6   COST        17520 non-null  object \n",
      " 7   NOTES       0 non-null      float64\n",
      "dtypes: float64(2), object(6)\n",
      "memory usage: 1.1+ MB\n"
     ]
    }
   ],
   "source": [
    "energy_df.info()"
   ]
  },
  {
   "cell_type": "code",
   "execution_count": 62,
   "id": "7024798c",
   "metadata": {},
   "outputs": [
    {
     "name": "stdout",
     "output_type": "stream",
     "text": [
      "[array(['Electric usage'], dtype=object), array(['kWh'], dtype=object), array([nan])]\n"
     ]
    }
   ],
   "source": [
    "# Printing all the unique values of uninteresting columns\n",
    "print([energy_df['TYPE'].unique(),\n",
    "energy_df['UNITS'].unique(), \n",
    "energy_df['NOTES'].unique()])"
   ]
  },
  {
   "cell_type": "code",
   "execution_count": 63,
   "id": "5268fa59",
   "metadata": {
    "scrolled": true
   },
   "outputs": [
    {
     "data": {
      "text/html": [
       "<div>\n",
       "<style scoped>\n",
       "    .dataframe tbody tr th:only-of-type {\n",
       "        vertical-align: middle;\n",
       "    }\n",
       "\n",
       "    .dataframe tbody tr th {\n",
       "        vertical-align: top;\n",
       "    }\n",
       "\n",
       "    .dataframe thead th {\n",
       "        text-align: right;\n",
       "    }\n",
       "</style>\n",
       "<table border=\"1\" class=\"dataframe\">\n",
       "  <thead>\n",
       "    <tr style=\"text-align: right;\">\n",
       "      <th></th>\n",
       "      <th>DATE</th>\n",
       "      <th>START TIME</th>\n",
       "      <th>END TIME</th>\n",
       "      <th>USAGE</th>\n",
       "      <th>COST</th>\n",
       "    </tr>\n",
       "  </thead>\n",
       "  <tbody>\n",
       "    <tr>\n",
       "      <th>0</th>\n",
       "      <td>2022-10-22</td>\n",
       "      <td>00:00</td>\n",
       "      <td>00:29</td>\n",
       "      <td>0.11</td>\n",
       "      <td>$0.01</td>\n",
       "    </tr>\n",
       "    <tr>\n",
       "      <th>1</th>\n",
       "      <td>2022-10-22</td>\n",
       "      <td>00:30</td>\n",
       "      <td>00:59</td>\n",
       "      <td>0.13</td>\n",
       "      <td>$0.02</td>\n",
       "    </tr>\n",
       "    <tr>\n",
       "      <th>2</th>\n",
       "      <td>2022-10-22</td>\n",
       "      <td>01:00</td>\n",
       "      <td>01:29</td>\n",
       "      <td>0.09</td>\n",
       "      <td>$0.01</td>\n",
       "    </tr>\n",
       "    <tr>\n",
       "      <th>3</th>\n",
       "      <td>2022-10-22</td>\n",
       "      <td>01:30</td>\n",
       "      <td>01:59</td>\n",
       "      <td>0.20</td>\n",
       "      <td>$0.02</td>\n",
       "    </tr>\n",
       "    <tr>\n",
       "      <th>4</th>\n",
       "      <td>2022-10-22</td>\n",
       "      <td>02:00</td>\n",
       "      <td>02:29</td>\n",
       "      <td>0.10</td>\n",
       "      <td>$0.01</td>\n",
       "    </tr>\n",
       "  </tbody>\n",
       "</table>\n",
       "</div>"
      ],
      "text/plain": [
       "         DATE START TIME END TIME  USAGE   COST\n",
       "0  2022-10-22      00:00    00:29   0.11  $0.01\n",
       "1  2022-10-22      00:30    00:59   0.13  $0.02\n",
       "2  2022-10-22      01:00    01:29   0.09  $0.01\n",
       "3  2022-10-22      01:30    01:59   0.20  $0.02\n",
       "4  2022-10-22      02:00    02:29   0.10  $0.01"
      ]
     },
     "execution_count": 63,
     "metadata": {},
     "output_type": "execute_result"
    }
   ],
   "source": [
    "# dropping columns with 0 variance\n",
    "energy_df_clean = energy_df.drop(['TYPE', 'UNITS', 'NOTES'], axis='columns')\n",
    "energy_df_clean.head()"
   ]
  },
  {
   "cell_type": "code",
   "execution_count": 64,
   "id": "59f1c2f9",
   "metadata": {},
   "outputs": [
    {
     "data": {
      "text/html": [
       "<div>\n",
       "<style scoped>\n",
       "    .dataframe tbody tr th:only-of-type {\n",
       "        vertical-align: middle;\n",
       "    }\n",
       "\n",
       "    .dataframe tbody tr th {\n",
       "        vertical-align: top;\n",
       "    }\n",
       "\n",
       "    .dataframe thead th {\n",
       "        text-align: right;\n",
       "    }\n",
       "</style>\n",
       "<table border=\"1\" class=\"dataframe\">\n",
       "  <thead>\n",
       "    <tr style=\"text-align: right;\">\n",
       "      <th></th>\n",
       "      <th>DATE</th>\n",
       "      <th>START TIME</th>\n",
       "      <th>END TIME</th>\n",
       "      <th>USAGE</th>\n",
       "      <th>COST</th>\n",
       "      <th>START_DT</th>\n",
       "    </tr>\n",
       "  </thead>\n",
       "  <tbody>\n",
       "    <tr>\n",
       "      <th>0</th>\n",
       "      <td>2022-10-22</td>\n",
       "      <td>00:00</td>\n",
       "      <td>00:29</td>\n",
       "      <td>0.11</td>\n",
       "      <td>$0.01</td>\n",
       "      <td>2023-10-24 00:00:00</td>\n",
       "    </tr>\n",
       "    <tr>\n",
       "      <th>1</th>\n",
       "      <td>2022-10-22</td>\n",
       "      <td>00:30</td>\n",
       "      <td>00:59</td>\n",
       "      <td>0.13</td>\n",
       "      <td>$0.02</td>\n",
       "      <td>2023-10-24 00:30:00</td>\n",
       "    </tr>\n",
       "    <tr>\n",
       "      <th>2</th>\n",
       "      <td>2022-10-22</td>\n",
       "      <td>01:00</td>\n",
       "      <td>01:29</td>\n",
       "      <td>0.09</td>\n",
       "      <td>$0.01</td>\n",
       "      <td>2023-10-24 01:00:00</td>\n",
       "    </tr>\n",
       "    <tr>\n",
       "      <th>3</th>\n",
       "      <td>2022-10-22</td>\n",
       "      <td>01:30</td>\n",
       "      <td>01:59</td>\n",
       "      <td>0.20</td>\n",
       "      <td>$0.02</td>\n",
       "      <td>2023-10-24 01:30:00</td>\n",
       "    </tr>\n",
       "    <tr>\n",
       "      <th>4</th>\n",
       "      <td>2022-10-22</td>\n",
       "      <td>02:00</td>\n",
       "      <td>02:29</td>\n",
       "      <td>0.10</td>\n",
       "      <td>$0.01</td>\n",
       "      <td>2023-10-24 02:00:00</td>\n",
       "    </tr>\n",
       "  </tbody>\n",
       "</table>\n",
       "</div>"
      ],
      "text/plain": [
       "         DATE START TIME END TIME  USAGE   COST            START_DT\n",
       "0  2022-10-22      00:00    00:29   0.11  $0.01 2023-10-24 00:00:00\n",
       "1  2022-10-22      00:30    00:59   0.13  $0.02 2023-10-24 00:30:00\n",
       "2  2022-10-22      01:00    01:29   0.09  $0.01 2023-10-24 01:00:00\n",
       "3  2022-10-22      01:30    01:59   0.20  $0.02 2023-10-24 01:30:00\n",
       "4  2022-10-22      02:00    02:29   0.10  $0.01 2023-10-24 02:00:00"
      ]
     },
     "execution_count": 64,
     "metadata": {},
     "output_type": "execute_result"
    }
   ],
   "source": [
    "energy_df_clean['START_DT'] = pd.to_datetime(energy_df['START TIME'], infer_datetime_format=True)\n",
    "energy_df_clean.head()"
   ]
  },
  {
   "cell_type": "code",
   "execution_count": 65,
   "id": "2685d7ba",
   "metadata": {
    "scrolled": true
   },
   "outputs": [
    {
     "data": {
      "text/html": [
       "<div>\n",
       "<style scoped>\n",
       "    .dataframe tbody tr th:only-of-type {\n",
       "        vertical-align: middle;\n",
       "    }\n",
       "\n",
       "    .dataframe tbody tr th {\n",
       "        vertical-align: top;\n",
       "    }\n",
       "\n",
       "    .dataframe thead th {\n",
       "        text-align: right;\n",
       "    }\n",
       "</style>\n",
       "<table border=\"1\" class=\"dataframe\">\n",
       "  <thead>\n",
       "    <tr style=\"text-align: right;\">\n",
       "      <th></th>\n",
       "      <th>DATE</th>\n",
       "      <th>START TIME</th>\n",
       "      <th>END TIME</th>\n",
       "      <th>USAGE</th>\n",
       "      <th>COST</th>\n",
       "      <th>START_DT</th>\n",
       "      <th>DATE_TIME</th>\n",
       "      <th>DATE_START</th>\n",
       "      <th>DATE_END</th>\n",
       "    </tr>\n",
       "  </thead>\n",
       "  <tbody>\n",
       "    <tr>\n",
       "      <th>0</th>\n",
       "      <td>2022-10-22</td>\n",
       "      <td>00:00</td>\n",
       "      <td>00:29</td>\n",
       "      <td>0.11</td>\n",
       "      <td>$0.01</td>\n",
       "      <td>2023-10-24 00:00:00</td>\n",
       "      <td>2022-10-22 00:29</td>\n",
       "      <td>2022-10-22 00:00:00</td>\n",
       "      <td>2022-10-22 00:29:00</td>\n",
       "    </tr>\n",
       "    <tr>\n",
       "      <th>1</th>\n",
       "      <td>2022-10-22</td>\n",
       "      <td>00:30</td>\n",
       "      <td>00:59</td>\n",
       "      <td>0.13</td>\n",
       "      <td>$0.02</td>\n",
       "      <td>2023-10-24 00:30:00</td>\n",
       "      <td>2022-10-22 00:59</td>\n",
       "      <td>2022-10-22 00:30:00</td>\n",
       "      <td>2022-10-22 00:59:00</td>\n",
       "    </tr>\n",
       "    <tr>\n",
       "      <th>2</th>\n",
       "      <td>2022-10-22</td>\n",
       "      <td>01:00</td>\n",
       "      <td>01:29</td>\n",
       "      <td>0.09</td>\n",
       "      <td>$0.01</td>\n",
       "      <td>2023-10-24 01:00:00</td>\n",
       "      <td>2022-10-22 01:29</td>\n",
       "      <td>2022-10-22 01:00:00</td>\n",
       "      <td>2022-10-22 01:29:00</td>\n",
       "    </tr>\n",
       "    <tr>\n",
       "      <th>3</th>\n",
       "      <td>2022-10-22</td>\n",
       "      <td>01:30</td>\n",
       "      <td>01:59</td>\n",
       "      <td>0.20</td>\n",
       "      <td>$0.02</td>\n",
       "      <td>2023-10-24 01:30:00</td>\n",
       "      <td>2022-10-22 01:59</td>\n",
       "      <td>2022-10-22 01:30:00</td>\n",
       "      <td>2022-10-22 01:59:00</td>\n",
       "    </tr>\n",
       "    <tr>\n",
       "      <th>4</th>\n",
       "      <td>2022-10-22</td>\n",
       "      <td>02:00</td>\n",
       "      <td>02:29</td>\n",
       "      <td>0.10</td>\n",
       "      <td>$0.01</td>\n",
       "      <td>2023-10-24 02:00:00</td>\n",
       "      <td>2022-10-22 02:29</td>\n",
       "      <td>2022-10-22 02:00:00</td>\n",
       "      <td>2022-10-22 02:29:00</td>\n",
       "    </tr>\n",
       "  </tbody>\n",
       "</table>\n",
       "</div>"
      ],
      "text/plain": [
       "         DATE START TIME END TIME  USAGE   COST            START_DT  \\\n",
       "0  2022-10-22      00:00    00:29   0.11  $0.01 2023-10-24 00:00:00   \n",
       "1  2022-10-22      00:30    00:59   0.13  $0.02 2023-10-24 00:30:00   \n",
       "2  2022-10-22      01:00    01:29   0.09  $0.01 2023-10-24 01:00:00   \n",
       "3  2022-10-22      01:30    01:59   0.20  $0.02 2023-10-24 01:30:00   \n",
       "4  2022-10-22      02:00    02:29   0.10  $0.01 2023-10-24 02:00:00   \n",
       "\n",
       "          DATE_TIME          DATE_START            DATE_END  \n",
       "0  2022-10-22 00:29 2022-10-22 00:00:00 2022-10-22 00:29:00  \n",
       "1  2022-10-22 00:59 2022-10-22 00:30:00 2022-10-22 00:59:00  \n",
       "2  2022-10-22 01:29 2022-10-22 01:00:00 2022-10-22 01:29:00  \n",
       "3  2022-10-22 01:59 2022-10-22 01:30:00 2022-10-22 01:59:00  \n",
       "4  2022-10-22 02:29 2022-10-22 02:00:00 2022-10-22 02:29:00  "
      ]
     },
     "execution_count": 65,
     "metadata": {},
     "output_type": "execute_result"
    }
   ],
   "source": [
    "# converted the DATE, START, END columns to datetime format\n",
    "energy_df_clean['DATE_TIME'] = energy_df_clean['DATE'] + ' ' + energy_df_clean['START TIME']\n",
    "energy_df_clean['DATE_START'] = pd.to_datetime(energy_df_clean['DATE_TIME'], infer_datetime_format=True)\n",
    "\n",
    "energy_df_clean['DATE_TIME'] = energy_df_clean['DATE'] + ' ' + energy_df_clean['END TIME']\n",
    "energy_df_clean['DATE_END'] = pd.to_datetime(energy_df_clean['DATE_TIME'], infer_datetime_format=True)\n",
    "energy_df_clean.head()"
   ]
  },
  {
   "cell_type": "code",
   "execution_count": 66,
   "id": "37df0ec9",
   "metadata": {
    "scrolled": true
   },
   "outputs": [
    {
     "data": {
      "text/html": [
       "<div>\n",
       "<style scoped>\n",
       "    .dataframe tbody tr th:only-of-type {\n",
       "        vertical-align: middle;\n",
       "    }\n",
       "\n",
       "    .dataframe tbody tr th {\n",
       "        vertical-align: top;\n",
       "    }\n",
       "\n",
       "    .dataframe thead th {\n",
       "        text-align: right;\n",
       "    }\n",
       "</style>\n",
       "<table border=\"1\" class=\"dataframe\">\n",
       "  <thead>\n",
       "    <tr style=\"text-align: right;\">\n",
       "      <th></th>\n",
       "      <th>DATE</th>\n",
       "      <th>START TIME</th>\n",
       "      <th>END TIME</th>\n",
       "      <th>USAGE</th>\n",
       "      <th>COST</th>\n",
       "      <th>START_DT</th>\n",
       "      <th>DATE_TIME</th>\n",
       "      <th>DATE_START</th>\n",
       "      <th>DATE_END</th>\n",
       "      <th>USAGE_DUR</th>\n",
       "    </tr>\n",
       "  </thead>\n",
       "  <tbody>\n",
       "    <tr>\n",
       "      <th>0</th>\n",
       "      <td>2022-10-22</td>\n",
       "      <td>00:00</td>\n",
       "      <td>00:29</td>\n",
       "      <td>0.11</td>\n",
       "      <td>$0.01</td>\n",
       "      <td>2023-10-24 00:00:00</td>\n",
       "      <td>2022-10-22 00:29</td>\n",
       "      <td>2022-10-22 00:00:00</td>\n",
       "      <td>2022-10-22 00:29:00</td>\n",
       "      <td>0 days 00:29:00</td>\n",
       "    </tr>\n",
       "    <tr>\n",
       "      <th>1</th>\n",
       "      <td>2022-10-22</td>\n",
       "      <td>00:30</td>\n",
       "      <td>00:59</td>\n",
       "      <td>0.13</td>\n",
       "      <td>$0.02</td>\n",
       "      <td>2023-10-24 00:30:00</td>\n",
       "      <td>2022-10-22 00:59</td>\n",
       "      <td>2022-10-22 00:30:00</td>\n",
       "      <td>2022-10-22 00:59:00</td>\n",
       "      <td>0 days 00:29:00</td>\n",
       "    </tr>\n",
       "    <tr>\n",
       "      <th>2</th>\n",
       "      <td>2022-10-22</td>\n",
       "      <td>01:00</td>\n",
       "      <td>01:29</td>\n",
       "      <td>0.09</td>\n",
       "      <td>$0.01</td>\n",
       "      <td>2023-10-24 01:00:00</td>\n",
       "      <td>2022-10-22 01:29</td>\n",
       "      <td>2022-10-22 01:00:00</td>\n",
       "      <td>2022-10-22 01:29:00</td>\n",
       "      <td>0 days 00:29:00</td>\n",
       "    </tr>\n",
       "    <tr>\n",
       "      <th>3</th>\n",
       "      <td>2022-10-22</td>\n",
       "      <td>01:30</td>\n",
       "      <td>01:59</td>\n",
       "      <td>0.20</td>\n",
       "      <td>$0.02</td>\n",
       "      <td>2023-10-24 01:30:00</td>\n",
       "      <td>2022-10-22 01:59</td>\n",
       "      <td>2022-10-22 01:30:00</td>\n",
       "      <td>2022-10-22 01:59:00</td>\n",
       "      <td>0 days 00:29:00</td>\n",
       "    </tr>\n",
       "    <tr>\n",
       "      <th>4</th>\n",
       "      <td>2022-10-22</td>\n",
       "      <td>02:00</td>\n",
       "      <td>02:29</td>\n",
       "      <td>0.10</td>\n",
       "      <td>$0.01</td>\n",
       "      <td>2023-10-24 02:00:00</td>\n",
       "      <td>2022-10-22 02:29</td>\n",
       "      <td>2022-10-22 02:00:00</td>\n",
       "      <td>2022-10-22 02:29:00</td>\n",
       "      <td>0 days 00:29:00</td>\n",
       "    </tr>\n",
       "  </tbody>\n",
       "</table>\n",
       "</div>"
      ],
      "text/plain": [
       "         DATE START TIME END TIME  USAGE   COST            START_DT  \\\n",
       "0  2022-10-22      00:00    00:29   0.11  $0.01 2023-10-24 00:00:00   \n",
       "1  2022-10-22      00:30    00:59   0.13  $0.02 2023-10-24 00:30:00   \n",
       "2  2022-10-22      01:00    01:29   0.09  $0.01 2023-10-24 01:00:00   \n",
       "3  2022-10-22      01:30    01:59   0.20  $0.02 2023-10-24 01:30:00   \n",
       "4  2022-10-22      02:00    02:29   0.10  $0.01 2023-10-24 02:00:00   \n",
       "\n",
       "          DATE_TIME          DATE_START            DATE_END       USAGE_DUR  \n",
       "0  2022-10-22 00:29 2022-10-22 00:00:00 2022-10-22 00:29:00 0 days 00:29:00  \n",
       "1  2022-10-22 00:59 2022-10-22 00:30:00 2022-10-22 00:59:00 0 days 00:29:00  \n",
       "2  2022-10-22 01:29 2022-10-22 01:00:00 2022-10-22 01:29:00 0 days 00:29:00  \n",
       "3  2022-10-22 01:59 2022-10-22 01:30:00 2022-10-22 01:59:00 0 days 00:29:00  \n",
       "4  2022-10-22 02:29 2022-10-22 02:00:00 2022-10-22 02:29:00 0 days 00:29:00  "
      ]
     },
     "execution_count": 66,
     "metadata": {},
     "output_type": "execute_result"
    }
   ],
   "source": [
    "# created a \n",
    "energy_df_clean['USAGE_DUR'] = energy_df_clean['DATE_END'] - energy_df_clean['DATE_START']\n",
    "\n",
    "energy_df_clean.head()"
   ]
  },
  {
   "cell_type": "code",
   "execution_count": 71,
   "id": "c5de2b80",
   "metadata": {
    "scrolled": false
   },
   "outputs": [
    {
     "name": "stdout",
     "output_type": "stream",
     "text": [
      "1740000000000 nanoseconds\n",
      "80940000000000 nanoseconds\n"
     ]
    }
   ],
   "source": [
    "unique_durs = (energy_df_clean['USAGE_DUR']).unique()\n",
    "# unique_durs = (energy_df_clean['USAGE_DUR'].dt.seconds.astype(str) + ' seconds').unique()\n",
    "for d in unique_durs:\n",
    "    print(d)\n",
    "# print(unique_durs)"
   ]
  },
  {
   "cell_type": "code",
   "execution_count": 82,
   "id": "f13e38b2",
   "metadata": {
    "scrolled": false
   },
   "outputs": [
    {
     "data": {
      "text/html": [
       "<div>\n",
       "<style scoped>\n",
       "    .dataframe tbody tr th:only-of-type {\n",
       "        vertical-align: middle;\n",
       "    }\n",
       "\n",
       "    .dataframe tbody tr th {\n",
       "        vertical-align: top;\n",
       "    }\n",
       "\n",
       "    .dataframe thead th {\n",
       "        text-align: right;\n",
       "    }\n",
       "</style>\n",
       "<table border=\"1\" class=\"dataframe\">\n",
       "  <thead>\n",
       "    <tr style=\"text-align: right;\">\n",
       "      <th></th>\n",
       "      <th>DATE</th>\n",
       "      <th>START TIME</th>\n",
       "      <th>END TIME</th>\n",
       "      <th>USAGE</th>\n",
       "      <th>COST</th>\n",
       "      <th>START_DT</th>\n",
       "      <th>DATE_TIME</th>\n",
       "      <th>DATE_START</th>\n",
       "      <th>DATE_END</th>\n",
       "      <th>USAGE_DUR</th>\n",
       "    </tr>\n",
       "  </thead>\n",
       "  <tbody>\n",
       "    <tr>\n",
       "      <th>723</th>\n",
       "      <td>2022-11-06</td>\n",
       "      <td>01:30</td>\n",
       "      <td>23:59</td>\n",
       "      <td>2.03</td>\n",
       "      <td>$0.26</td>\n",
       "      <td>2023-10-24 01:30:00</td>\n",
       "      <td>2022-11-06 23:59</td>\n",
       "      <td>2022-11-06 01:30:00</td>\n",
       "      <td>2022-11-06 23:59:00</td>\n",
       "      <td>0 days 22:29:00</td>\n",
       "    </tr>\n",
       "  </tbody>\n",
       "</table>\n",
       "</div>"
      ],
      "text/plain": [
       "           DATE START TIME END TIME  USAGE   COST            START_DT  \\\n",
       "723  2022-11-06      01:30    23:59   2.03  $0.26 2023-10-24 01:30:00   \n",
       "\n",
       "            DATE_TIME          DATE_START            DATE_END       USAGE_DUR  \n",
       "723  2022-11-06 23:59 2022-11-06 01:30:00 2022-11-06 23:59:00 0 days 22:29:00  "
      ]
     },
     "execution_count": 82,
     "metadata": {},
     "output_type": "execute_result"
    }
   ],
   "source": [
    "weird_usage = energy_df_clean[energy_df_clean['USAGE_DUR']==unique_durs[1]]\n",
    "weird_usage.head()"
   ]
  },
  {
   "cell_type": "code",
   "execution_count": 83,
   "id": "471563e6",
   "metadata": {
    "scrolled": true
   },
   "outputs": [
    {
     "name": "stdout",
     "output_type": "stream",
     "text": [
      "723   2022-11-06 01:30:00\n",
      "Name: DATE_START, dtype: datetime64[ns]\n"
     ]
    }
   ],
   "source": [
    "print(weird_usage['DATE_START'])"
   ]
  },
  {
   "cell_type": "code",
   "execution_count": 87,
   "id": "3276a987",
   "metadata": {},
   "outputs": [
    {
     "name": "stdout",
     "output_type": "stream",
     "text": [
      "723   2022-11-06 01:30:00\n",
      "Name: DATE_START, dtype: datetime64[ns]\n"
     ]
    },
    {
     "ename": "KeyError",
     "evalue": "\"[Timestamp('2022-11-06 01:30:00')] not found in axis\"",
     "output_type": "error",
     "traceback": [
      "\u001b[0;31m---------------------------------------------------------------------------\u001b[0m",
      "\u001b[0;31mKeyError\u001b[0m                                  Traceback (most recent call last)",
      "\u001b[0;32m/var/tmp/ipykernel_13241/4095502194.py\u001b[0m in \u001b[0;36m<module>\u001b[0;34m\u001b[0m\n\u001b[1;32m      2\u001b[0m \u001b[0mwd\u001b[0m \u001b[0;34m=\u001b[0m \u001b[0mweird_usage\u001b[0m\u001b[0;34m[\u001b[0m\u001b[0;34m'DATE_START'\u001b[0m\u001b[0;34m]\u001b[0m\u001b[0;34m\u001b[0m\u001b[0;34m\u001b[0m\u001b[0m\n\u001b[1;32m      3\u001b[0m \u001b[0mprint\u001b[0m\u001b[0;34m(\u001b[0m\u001b[0mwd\u001b[0m\u001b[0;34m)\u001b[0m\u001b[0;34m\u001b[0m\u001b[0;34m\u001b[0m\u001b[0m\n\u001b[0;32m----> 4\u001b[0;31m \u001b[0menergy_df_clean\u001b[0m\u001b[0;34m.\u001b[0m\u001b[0mdrop\u001b[0m\u001b[0;34m(\u001b[0m\u001b[0mindex\u001b[0m\u001b[0;34m=\u001b[0m\u001b[0;34m(\u001b[0m\u001b[0mwd\u001b[0m\u001b[0;34m)\u001b[0m\u001b[0;34m,\u001b[0m \u001b[0minplace\u001b[0m\u001b[0;34m=\u001b[0m\u001b[0;32mTrue\u001b[0m\u001b[0;34m)\u001b[0m\u001b[0;34m\u001b[0m\u001b[0;34m\u001b[0m\u001b[0m\n\u001b[0m\u001b[1;32m      5\u001b[0m \u001b[0mprint\u001b[0m\u001b[0;34m(\u001b[0m\u001b[0;34m(\u001b[0m\u001b[0menergy_df_clean\u001b[0m\u001b[0;34m[\u001b[0m\u001b[0;34m'USAGE_DUR'\u001b[0m\u001b[0;34m]\u001b[0m\u001b[0;34m)\u001b[0m\u001b[0;34m.\u001b[0m\u001b[0munique\u001b[0m\u001b[0;34m(\u001b[0m\u001b[0;34m)\u001b[0m\u001b[0;34m)\u001b[0m\u001b[0;34m\u001b[0m\u001b[0;34m\u001b[0m\u001b[0m\n",
      "\u001b[0;32m/opt/conda/lib/python3.7/site-packages/pandas/util/_decorators.py\u001b[0m in \u001b[0;36mwrapper\u001b[0;34m(*args, **kwargs)\u001b[0m\n\u001b[1;32m    309\u001b[0m                     \u001b[0mstacklevel\u001b[0m\u001b[0;34m=\u001b[0m\u001b[0mstacklevel\u001b[0m\u001b[0;34m,\u001b[0m\u001b[0;34m\u001b[0m\u001b[0;34m\u001b[0m\u001b[0m\n\u001b[1;32m    310\u001b[0m                 )\n\u001b[0;32m--> 311\u001b[0;31m             \u001b[0;32mreturn\u001b[0m \u001b[0mfunc\u001b[0m\u001b[0;34m(\u001b[0m\u001b[0;34m*\u001b[0m\u001b[0margs\u001b[0m\u001b[0;34m,\u001b[0m \u001b[0;34m**\u001b[0m\u001b[0mkwargs\u001b[0m\u001b[0;34m)\u001b[0m\u001b[0;34m\u001b[0m\u001b[0;34m\u001b[0m\u001b[0m\n\u001b[0m\u001b[1;32m    312\u001b[0m \u001b[0;34m\u001b[0m\u001b[0m\n\u001b[1;32m    313\u001b[0m         \u001b[0;32mreturn\u001b[0m \u001b[0mwrapper\u001b[0m\u001b[0;34m\u001b[0m\u001b[0;34m\u001b[0m\u001b[0m\n",
      "\u001b[0;32m/opt/conda/lib/python3.7/site-packages/pandas/core/frame.py\u001b[0m in \u001b[0;36mdrop\u001b[0;34m(self, labels, axis, index, columns, level, inplace, errors)\u001b[0m\n\u001b[1;32m   4911\u001b[0m             \u001b[0mlevel\u001b[0m\u001b[0;34m=\u001b[0m\u001b[0mlevel\u001b[0m\u001b[0;34m,\u001b[0m\u001b[0;34m\u001b[0m\u001b[0;34m\u001b[0m\u001b[0m\n\u001b[1;32m   4912\u001b[0m             \u001b[0minplace\u001b[0m\u001b[0;34m=\u001b[0m\u001b[0minplace\u001b[0m\u001b[0;34m,\u001b[0m\u001b[0;34m\u001b[0m\u001b[0;34m\u001b[0m\u001b[0m\n\u001b[0;32m-> 4913\u001b[0;31m             \u001b[0merrors\u001b[0m\u001b[0;34m=\u001b[0m\u001b[0merrors\u001b[0m\u001b[0;34m,\u001b[0m\u001b[0;34m\u001b[0m\u001b[0;34m\u001b[0m\u001b[0m\n\u001b[0m\u001b[1;32m   4914\u001b[0m         )\n\u001b[1;32m   4915\u001b[0m \u001b[0;34m\u001b[0m\u001b[0m\n",
      "\u001b[0;32m/opt/conda/lib/python3.7/site-packages/pandas/core/generic.py\u001b[0m in \u001b[0;36mdrop\u001b[0;34m(self, labels, axis, index, columns, level, inplace, errors)\u001b[0m\n\u001b[1;32m   4148\u001b[0m         \u001b[0;32mfor\u001b[0m \u001b[0maxis\u001b[0m\u001b[0;34m,\u001b[0m \u001b[0mlabels\u001b[0m \u001b[0;32min\u001b[0m \u001b[0maxes\u001b[0m\u001b[0;34m.\u001b[0m\u001b[0mitems\u001b[0m\u001b[0;34m(\u001b[0m\u001b[0;34m)\u001b[0m\u001b[0;34m:\u001b[0m\u001b[0;34m\u001b[0m\u001b[0;34m\u001b[0m\u001b[0m\n\u001b[1;32m   4149\u001b[0m             \u001b[0;32mif\u001b[0m \u001b[0mlabels\u001b[0m \u001b[0;32mis\u001b[0m \u001b[0;32mnot\u001b[0m \u001b[0;32mNone\u001b[0m\u001b[0;34m:\u001b[0m\u001b[0;34m\u001b[0m\u001b[0;34m\u001b[0m\u001b[0m\n\u001b[0;32m-> 4150\u001b[0;31m                 \u001b[0mobj\u001b[0m \u001b[0;34m=\u001b[0m \u001b[0mobj\u001b[0m\u001b[0;34m.\u001b[0m\u001b[0m_drop_axis\u001b[0m\u001b[0;34m(\u001b[0m\u001b[0mlabels\u001b[0m\u001b[0;34m,\u001b[0m \u001b[0maxis\u001b[0m\u001b[0;34m,\u001b[0m \u001b[0mlevel\u001b[0m\u001b[0;34m=\u001b[0m\u001b[0mlevel\u001b[0m\u001b[0;34m,\u001b[0m \u001b[0merrors\u001b[0m\u001b[0;34m=\u001b[0m\u001b[0merrors\u001b[0m\u001b[0;34m)\u001b[0m\u001b[0;34m\u001b[0m\u001b[0;34m\u001b[0m\u001b[0m\n\u001b[0m\u001b[1;32m   4151\u001b[0m \u001b[0;34m\u001b[0m\u001b[0m\n\u001b[1;32m   4152\u001b[0m         \u001b[0;32mif\u001b[0m \u001b[0minplace\u001b[0m\u001b[0;34m:\u001b[0m\u001b[0;34m\u001b[0m\u001b[0;34m\u001b[0m\u001b[0m\n",
      "\u001b[0;32m/opt/conda/lib/python3.7/site-packages/pandas/core/generic.py\u001b[0m in \u001b[0;36m_drop_axis\u001b[0;34m(self, labels, axis, level, errors)\u001b[0m\n\u001b[1;32m   4183\u001b[0m                 \u001b[0mnew_axis\u001b[0m \u001b[0;34m=\u001b[0m \u001b[0maxis\u001b[0m\u001b[0;34m.\u001b[0m\u001b[0mdrop\u001b[0m\u001b[0;34m(\u001b[0m\u001b[0mlabels\u001b[0m\u001b[0;34m,\u001b[0m \u001b[0mlevel\u001b[0m\u001b[0;34m=\u001b[0m\u001b[0mlevel\u001b[0m\u001b[0;34m,\u001b[0m \u001b[0merrors\u001b[0m\u001b[0;34m=\u001b[0m\u001b[0merrors\u001b[0m\u001b[0;34m)\u001b[0m\u001b[0;34m\u001b[0m\u001b[0;34m\u001b[0m\u001b[0m\n\u001b[1;32m   4184\u001b[0m             \u001b[0;32melse\u001b[0m\u001b[0;34m:\u001b[0m\u001b[0;34m\u001b[0m\u001b[0;34m\u001b[0m\u001b[0m\n\u001b[0;32m-> 4185\u001b[0;31m                 \u001b[0mnew_axis\u001b[0m \u001b[0;34m=\u001b[0m \u001b[0maxis\u001b[0m\u001b[0;34m.\u001b[0m\u001b[0mdrop\u001b[0m\u001b[0;34m(\u001b[0m\u001b[0mlabels\u001b[0m\u001b[0;34m,\u001b[0m \u001b[0merrors\u001b[0m\u001b[0;34m=\u001b[0m\u001b[0merrors\u001b[0m\u001b[0;34m)\u001b[0m\u001b[0;34m\u001b[0m\u001b[0;34m\u001b[0m\u001b[0m\n\u001b[0m\u001b[1;32m   4186\u001b[0m             \u001b[0mresult\u001b[0m \u001b[0;34m=\u001b[0m \u001b[0mself\u001b[0m\u001b[0;34m.\u001b[0m\u001b[0mreindex\u001b[0m\u001b[0;34m(\u001b[0m\u001b[0;34m**\u001b[0m\u001b[0;34m{\u001b[0m\u001b[0maxis_name\u001b[0m\u001b[0;34m:\u001b[0m \u001b[0mnew_axis\u001b[0m\u001b[0;34m}\u001b[0m\u001b[0;34m)\u001b[0m\u001b[0;34m\u001b[0m\u001b[0;34m\u001b[0m\u001b[0m\n\u001b[1;32m   4187\u001b[0m \u001b[0;34m\u001b[0m\u001b[0m\n",
      "\u001b[0;32m/opt/conda/lib/python3.7/site-packages/pandas/core/indexes/base.py\u001b[0m in \u001b[0;36mdrop\u001b[0;34m(self, labels, errors)\u001b[0m\n\u001b[1;32m   6015\u001b[0m         \u001b[0;32mif\u001b[0m \u001b[0mmask\u001b[0m\u001b[0;34m.\u001b[0m\u001b[0many\u001b[0m\u001b[0;34m(\u001b[0m\u001b[0;34m)\u001b[0m\u001b[0;34m:\u001b[0m\u001b[0;34m\u001b[0m\u001b[0;34m\u001b[0m\u001b[0m\n\u001b[1;32m   6016\u001b[0m             \u001b[0;32mif\u001b[0m \u001b[0merrors\u001b[0m \u001b[0;34m!=\u001b[0m \u001b[0;34m\"ignore\"\u001b[0m\u001b[0;34m:\u001b[0m\u001b[0;34m\u001b[0m\u001b[0;34m\u001b[0m\u001b[0m\n\u001b[0;32m-> 6017\u001b[0;31m                 \u001b[0;32mraise\u001b[0m \u001b[0mKeyError\u001b[0m\u001b[0;34m(\u001b[0m\u001b[0;34mf\"{labels[mask]} not found in axis\"\u001b[0m\u001b[0;34m)\u001b[0m\u001b[0;34m\u001b[0m\u001b[0;34m\u001b[0m\u001b[0m\n\u001b[0m\u001b[1;32m   6018\u001b[0m             \u001b[0mindexer\u001b[0m \u001b[0;34m=\u001b[0m \u001b[0mindexer\u001b[0m\u001b[0;34m[\u001b[0m\u001b[0;34m~\u001b[0m\u001b[0mmask\u001b[0m\u001b[0;34m]\u001b[0m\u001b[0;34m\u001b[0m\u001b[0;34m\u001b[0m\u001b[0m\n\u001b[1;32m   6019\u001b[0m         \u001b[0;32mreturn\u001b[0m \u001b[0mself\u001b[0m\u001b[0;34m.\u001b[0m\u001b[0mdelete\u001b[0m\u001b[0;34m(\u001b[0m\u001b[0mindexer\u001b[0m\u001b[0;34m)\u001b[0m\u001b[0;34m\u001b[0m\u001b[0;34m\u001b[0m\u001b[0m\n",
      "\u001b[0;31mKeyError\u001b[0m: \"[Timestamp('2022-11-06 01:30:00')] not found in axis\""
     ]
    }
   ],
   "source": [
    "energy_df_clean.set_index('DATE_START')\n",
    "wd = weird_usage['DATE_START']\n",
    "print(wd)\n",
    "energy_df_clean.drop(index=weird_usage['DATE_START'], inplace=True)\n",
    "print((energy_df_clean['USAGE_DUR']).unique())"
   ]
  },
  {
   "cell_type": "markdown",
   "id": "85db1bc0",
   "metadata": {},
   "source": [
    "# Column / header info\n",
    "* **col0**: description0\n",
    "* **col1**: description1"
   ]
  },
  {
   "cell_type": "markdown",
   "id": "ebe90fb3",
   "metadata": {},
   "source": [
    "# Initial Observations\n",
    "* Observation0\n",
    "* Observation1"
   ]
  },
  {
   "cell_type": "code",
   "execution_count": null,
   "id": "04d43d6f",
   "metadata": {},
   "outputs": [],
   "source": [
    "df.info()"
   ]
  },
  {
   "cell_type": "code",
   "execution_count": null,
   "id": "1b46e1a3",
   "metadata": {},
   "outputs": [],
   "source": [
    "df.describe"
   ]
  },
  {
   "cell_type": "markdown",
   "id": "0945f807",
   "metadata": {},
   "source": [
    "# Cleaning"
   ]
  },
  {
   "cell_type": "code",
   "execution_count": null,
   "id": "b8d2ebb3",
   "metadata": {},
   "outputs": [],
   "source": []
  },
  {
   "cell_type": "markdown",
   "id": "0d5bf73a",
   "metadata": {},
   "source": [
    "# Ideas for Improvement\n",
    "* \n",
    "* "
   ]
  }
 ],
 "metadata": {
  "environment": {
   "kernel": "python3",
   "name": "pytorch-gpu.1-13.m103",
   "type": "gcloud",
   "uri": "gcr.io/deeplearning-platform-release/pytorch-gpu.1-13:m103"
  },
  "kernelspec": {
   "display_name": "Python 3 (ipykernel)",
   "language": "python",
   "name": "python3"
  },
  "language_info": {
   "codemirror_mode": {
    "name": "ipython",
    "version": 3
   },
   "file_extension": ".py",
   "mimetype": "text/x-python",
   "name": "python",
   "nbconvert_exporter": "python",
   "pygments_lexer": "ipython3",
   "version": "3.7.12"
  }
 },
 "nbformat": 4,
 "nbformat_minor": 5
}
