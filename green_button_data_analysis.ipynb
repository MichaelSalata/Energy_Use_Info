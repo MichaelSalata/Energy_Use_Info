{
 "cells": [
  {
   "cell_type": "markdown",
   "id": "23521af9",
   "metadata": {},
   "source": [
    "# Energy Use Data Analysis / Visualization"
   ]
  },
  {
   "cell_type": "markdown",
   "id": "bc36461e",
   "metadata": {},
   "source": [
    "# Introduction\n",
    "This project is meant to gather insights on electricity usage. This file will visualize the cleaned data.\n",
    "\n",
    "## Data\n",
    "This takes in the file outputted from the \"green_button_data_cleaning.ipynb\".\n",
    "\n",
    "\n",
    "## Original Data Source\n",
    "Data is from my energy company(ComEd) from the past year. 10_22_2022 to 10_22_2023\n",
    "Data from the [My Green Button](https://secure.comed.com/MyAccount/MyBillUsage/pages/secure/GreenButtonConnectDownloadMyData.aspx) webpage on the ComEd website."
   ]
  },
  {
   "cell_type": "markdown",
   "id": "85db1bc0",
   "metadata": {},
   "source": [
    "# Column / header info\n",
    "* **TYPE**: Electric usage\n",
    "* **DATE**: Day recorded\n",
    "* **START TIME**: start of recording in Hour:Minutes\n",
    "* **END TIME**: end of recording in Hour:Minutes\n",
    "* **USAGE**: Electric usage in kWh\n",
    "* **UNITS**: Electric usage metric\n",
    "* **COST**: amount charged for energy usage in USD\n",
    "* **NOTES**: useless data"
   ]
  },
  {
   "cell_type": "code",
   "execution_count": 1,
   "id": "1407f710",
   "metadata": {},
   "outputs": [],
   "source": [
    "import pandas as pd\n",
    "import numpy as np"
   ]
  },
  {
   "cell_type": "code",
   "execution_count": 6,
   "id": "e84d1831",
   "metadata": {},
   "outputs": [],
   "source": [
    "# Import the energy use spreadsheet from the 'data' directory\n",
    "\n",
    "# Define the directory path and the regular expression pattern\n",
    "import glob\n",
    "directory_path = \"./data\"\n",
    "file_pattern = \"clean_energy_use*.csv\"\n",
    "\n",
    "# Use glob.glob to match filenames based on the pattern\n",
    "file_path = glob.glob(f\"{directory_path}/{file_pattern}\")[0]\n",
    "energy_df = pd.read_csv(filepath_or_buffer=file_path)"
   ]
  },
  {
   "cell_type": "code",
   "execution_count": 7,
   "id": "8a0686d1",
   "metadata": {
    "scrolled": true
   },
   "outputs": [
    {
     "name": "stdout",
     "output_type": "stream",
     "text": [
      "Index(['START_TIME', 'DATE', 'END_TIME', 'USAGE', 'COST', 'USAGE_DUR'], dtype='object')\n"
     ]
    },
    {
     "data": {
      "text/html": [
       "<div>\n",
       "<style scoped>\n",
       "    .dataframe tbody tr th:only-of-type {\n",
       "        vertical-align: middle;\n",
       "    }\n",
       "\n",
       "    .dataframe tbody tr th {\n",
       "        vertical-align: top;\n",
       "    }\n",
       "\n",
       "    .dataframe thead th {\n",
       "        text-align: right;\n",
       "    }\n",
       "</style>\n",
       "<table border=\"1\" class=\"dataframe\">\n",
       "  <thead>\n",
       "    <tr style=\"text-align: right;\">\n",
       "      <th></th>\n",
       "      <th>START_TIME</th>\n",
       "      <th>DATE</th>\n",
       "      <th>END_TIME</th>\n",
       "      <th>USAGE</th>\n",
       "      <th>COST</th>\n",
       "      <th>USAGE_DUR</th>\n",
       "    </tr>\n",
       "  </thead>\n",
       "  <tbody>\n",
       "    <tr>\n",
       "      <th>0</th>\n",
       "      <td>2022-10-22 00:00:00</td>\n",
       "      <td>2022-10-22 00:00:00</td>\n",
       "      <td>2022-10-22 00:29:00</td>\n",
       "      <td>0.11</td>\n",
       "      <td>0.01</td>\n",
       "      <td>0 days 00:29:00</td>\n",
       "    </tr>\n",
       "    <tr>\n",
       "      <th>1</th>\n",
       "      <td>2022-10-22 00:30:00</td>\n",
       "      <td>2022-10-22 00:00:00</td>\n",
       "      <td>2022-10-22 00:59:00</td>\n",
       "      <td>0.13</td>\n",
       "      <td>0.02</td>\n",
       "      <td>0 days 00:29:00</td>\n",
       "    </tr>\n",
       "    <tr>\n",
       "      <th>2</th>\n",
       "      <td>2022-10-22 01:00:00</td>\n",
       "      <td>2022-10-22 00:00:00</td>\n",
       "      <td>2022-10-22 01:29:00</td>\n",
       "      <td>0.09</td>\n",
       "      <td>0.01</td>\n",
       "      <td>0 days 00:29:00</td>\n",
       "    </tr>\n",
       "    <tr>\n",
       "      <th>3</th>\n",
       "      <td>2022-10-22 01:30:00</td>\n",
       "      <td>2022-10-22 00:00:00</td>\n",
       "      <td>2022-10-22 01:59:00</td>\n",
       "      <td>0.20</td>\n",
       "      <td>0.02</td>\n",
       "      <td>0 days 00:29:00</td>\n",
       "    </tr>\n",
       "    <tr>\n",
       "      <th>4</th>\n",
       "      <td>2022-10-22 02:00:00</td>\n",
       "      <td>2022-10-22 00:00:00</td>\n",
       "      <td>2022-10-22 02:29:00</td>\n",
       "      <td>0.10</td>\n",
       "      <td>0.01</td>\n",
       "      <td>0 days 00:29:00</td>\n",
       "    </tr>\n",
       "  </tbody>\n",
       "</table>\n",
       "</div>"
      ],
      "text/plain": [
       "            START_TIME                 DATE             END_TIME  USAGE  COST  \\\n",
       "0  2022-10-22 00:00:00  2022-10-22 00:00:00  2022-10-22 00:29:00   0.11  0.01   \n",
       "1  2022-10-22 00:30:00  2022-10-22 00:00:00  2022-10-22 00:59:00   0.13  0.02   \n",
       "2  2022-10-22 01:00:00  2022-10-22 00:00:00  2022-10-22 01:29:00   0.09  0.01   \n",
       "3  2022-10-22 01:30:00  2022-10-22 00:00:00  2022-10-22 01:59:00   0.20  0.02   \n",
       "4  2022-10-22 02:00:00  2022-10-22 00:00:00  2022-10-22 02:29:00   0.10  0.01   \n",
       "\n",
       "         USAGE_DUR  \n",
       "0  0 days 00:29:00  \n",
       "1  0 days 00:29:00  \n",
       "2  0 days 00:29:00  \n",
       "3  0 days 00:29:00  \n",
       "4  0 days 00:29:00  "
      ]
     },
     "execution_count": 7,
     "metadata": {},
     "output_type": "execute_result"
    }
   ],
   "source": [
    "print(energy_df.columns)\n",
    "energy_df.head()"
   ]
  },
  {
   "cell_type": "code",
   "execution_count": 70,
   "id": "427c7369",
   "metadata": {
    "scrolled": true
   },
   "outputs": [
    {
     "name": "stdout",
     "output_type": "stream",
     "text": [
      "<class 'pandas.core.frame.DataFrame'>\n",
      "RangeIndex: 17520 entries, 0 to 17519\n",
      "Data columns (total 8 columns):\n",
      " #   Column      Non-Null Count  Dtype  \n",
      "---  ------      --------------  -----  \n",
      " 0   TYPE        17520 non-null  object \n",
      " 1   DATE        17520 non-null  object \n",
      " 2   START TIME  17520 non-null  object \n",
      " 3   END TIME    17520 non-null  object \n",
      " 4   USAGE       17520 non-null  float64\n",
      " 5   UNITS       17520 non-null  object \n",
      " 6   COST        17520 non-null  object \n",
      " 7   NOTES       0 non-null      float64\n",
      "dtypes: float64(2), object(6)\n",
      "memory usage: 1.1+ MB\n"
     ]
    }
   ],
   "source": [
    "energy_df.info()"
   ]
  },
  {
   "cell_type": "markdown",
   "id": "1cb5842c",
   "metadata": {},
   "source": [
    "# Graph Ideas\n",
    "* bucket usage by week\n",
    "* bucket usage by hour\n",
    "* buckec the previous graphs by season"
   ]
  }
 ],
 "metadata": {
  "environment": {
   "kernel": "python3",
   "name": "pytorch-gpu.1-13.m103",
   "type": "gcloud",
   "uri": "gcr.io/deeplearning-platform-release/pytorch-gpu.1-13:m103"
  },
  "kernelspec": {
   "display_name": "Python 3 (ipykernel)",
   "language": "python",
   "name": "python3"
  },
  "language_info": {
   "codemirror_mode": {
    "name": "ipython",
    "version": 3
   },
   "file_extension": ".py",
   "mimetype": "text/x-python",
   "name": "python",
   "nbconvert_exporter": "python",
   "pygments_lexer": "ipython3",
   "version": "3.7.12"
  }
 },
 "nbformat": 4,
 "nbformat_minor": 5
}
