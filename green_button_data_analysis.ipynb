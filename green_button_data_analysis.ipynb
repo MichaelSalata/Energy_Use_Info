{
 "cells": [
  {
   "cell_type": "markdown",
   "metadata": {},
   "source": [
    "# Energy Use Data Analysis / Visualization"
   ]
  },
  {
   "cell_type": "markdown",
   "metadata": {},
   "source": [
    "# Introduction\n",
    "This project is meant to gather insights on electricity usage. This file will visualize the cleaned data.\n",
    "\n",
    "## Data\n",
    "This takes in the file outputted from the \"green_button_data_cleaning.ipynb\".\n",
    "\n",
    "\n",
    "## Original Data Source\n",
    "Data is from my energy company(ComEd) from the past year. 10_22_2022 to 10_22_2023\n",
    "Data from the [My Green Button](https://secure.comed.com/MyAccount/MyBillUsage/pages/secure/GreenButtonConnectDownloadMyData.aspx) webpage on the ComEd website."
   ]
  },
  {
   "cell_type": "markdown",
   "metadata": {},
   "source": [
    "# Column / header info\n",
    "* **DATE**: Day recorded\n",
    "* **START_TIME**: start of recording in Hour:Minutes\n",
    "* **END_TIME**: end of recording in Hour:Minutes\n",
    "* **USAGE**: Electric usage in kWh\n",
    "* **COST**: amount charged for energy usage in USD"
   ]
  },
  {
   "cell_type": "code",
   "execution_count": 1,
   "metadata": {},
   "outputs": [],
   "source": [
    "import pandas as pd\n",
    "import numpy as np\n",
    "import matplotlib.pyplot as plt"
   ]
  },
  {
   "cell_type": "code",
   "execution_count": 2,
   "metadata": {},
   "outputs": [],
   "source": [
    "# Import the energy use spreadsheet from the 'data' directory\n",
    "\n",
    "# Define the directory path and the regular expression pattern\n",
    "import glob\n",
    "directory_path = \"./data\"\n",
    "file_pattern = \"clean_*.csv\"\n",
    "\n",
    "# Use glob.glob to match filenames based on the pattern\n",
    "file_path = glob.glob(f\"{directory_path}/{file_pattern}\")[0]\n",
    "energy_df = pd.read_csv(filepath_or_buffer=file_path)"
   ]
  },
  {
   "cell_type": "code",
   "execution_count": 3,
   "metadata": {
    "scrolled": true
   },
   "outputs": [
    {
     "name": "stdout",
     "output_type": "stream",
     "text": [
      "<class 'pandas.core.frame.DataFrame'>\n",
      "RangeIndex: 17517 entries, 0 to 17516\n",
      "Data columns (total 6 columns):\n",
      " #   Column      Non-Null Count  Dtype  \n",
      "---  ------      --------------  -----  \n",
      " 0   START_TIME  17517 non-null  object \n",
      " 1   DATE        17517 non-null  object \n",
      " 2   END_TIME    17517 non-null  object \n",
      " 3   USAGE       17517 non-null  float64\n",
      " 4   COST        17517 non-null  float64\n",
      " 5   USAGE_DUR   17517 non-null  object \n",
      "dtypes: float64(2), object(4)\n",
      "memory usage: 821.2+ KB\n"
     ]
    }
   ],
   "source": [
    "energy_df.info()"
   ]
  },
  {
   "cell_type": "code",
   "execution_count": 4,
   "metadata": {
    "scrolled": true
   },
   "outputs": [
    {
     "name": "stdout",
     "output_type": "stream",
     "text": [
      "Index(['START_TIME', 'DATE', 'END_TIME', 'USAGE', 'COST', 'USAGE_DUR'], dtype='object')\n"
     ]
    },
    {
     "data": {
      "text/html": [
       "<div>\n",
       "<style scoped>\n",
       "    .dataframe tbody tr th:only-of-type {\n",
       "        vertical-align: middle;\n",
       "    }\n",
       "\n",
       "    .dataframe tbody tr th {\n",
       "        vertical-align: top;\n",
       "    }\n",
       "\n",
       "    .dataframe thead th {\n",
       "        text-align: right;\n",
       "    }\n",
       "</style>\n",
       "<table border=\"1\" class=\"dataframe\">\n",
       "  <thead>\n",
       "    <tr style=\"text-align: right;\">\n",
       "      <th></th>\n",
       "      <th>START_TIME</th>\n",
       "      <th>DATE</th>\n",
       "      <th>END_TIME</th>\n",
       "      <th>USAGE</th>\n",
       "      <th>COST</th>\n",
       "      <th>USAGE_DUR</th>\n",
       "    </tr>\n",
       "  </thead>\n",
       "  <tbody>\n",
       "    <tr>\n",
       "      <th>0</th>\n",
       "      <td>2022-10-22 00:00:00</td>\n",
       "      <td>2022-10-22 00:00:00</td>\n",
       "      <td>2022-10-22 00:29:00</td>\n",
       "      <td>0.11</td>\n",
       "      <td>0.01</td>\n",
       "      <td>0 days 00:29:00</td>\n",
       "    </tr>\n",
       "    <tr>\n",
       "      <th>1</th>\n",
       "      <td>2022-10-22 00:30:00</td>\n",
       "      <td>2022-10-22 00:00:00</td>\n",
       "      <td>2022-10-22 00:59:00</td>\n",
       "      <td>0.13</td>\n",
       "      <td>0.02</td>\n",
       "      <td>0 days 00:29:00</td>\n",
       "    </tr>\n",
       "    <tr>\n",
       "      <th>2</th>\n",
       "      <td>2022-10-22 01:00:00</td>\n",
       "      <td>2022-10-22 00:00:00</td>\n",
       "      <td>2022-10-22 01:29:00</td>\n",
       "      <td>0.09</td>\n",
       "      <td>0.01</td>\n",
       "      <td>0 days 00:29:00</td>\n",
       "    </tr>\n",
       "    <tr>\n",
       "      <th>3</th>\n",
       "      <td>2022-10-22 01:30:00</td>\n",
       "      <td>2022-10-22 00:00:00</td>\n",
       "      <td>2022-10-22 01:59:00</td>\n",
       "      <td>0.20</td>\n",
       "      <td>0.02</td>\n",
       "      <td>0 days 00:29:00</td>\n",
       "    </tr>\n",
       "    <tr>\n",
       "      <th>4</th>\n",
       "      <td>2022-10-22 02:00:00</td>\n",
       "      <td>2022-10-22 00:00:00</td>\n",
       "      <td>2022-10-22 02:29:00</td>\n",
       "      <td>0.10</td>\n",
       "      <td>0.01</td>\n",
       "      <td>0 days 00:29:00</td>\n",
       "    </tr>\n",
       "  </tbody>\n",
       "</table>\n",
       "</div>"
      ],
      "text/plain": [
       "            START_TIME                 DATE             END_TIME  USAGE  COST  \\\n",
       "0  2022-10-22 00:00:00  2022-10-22 00:00:00  2022-10-22 00:29:00   0.11  0.01   \n",
       "1  2022-10-22 00:30:00  2022-10-22 00:00:00  2022-10-22 00:59:00   0.13  0.02   \n",
       "2  2022-10-22 01:00:00  2022-10-22 00:00:00  2022-10-22 01:29:00   0.09  0.01   \n",
       "3  2022-10-22 01:30:00  2022-10-22 00:00:00  2022-10-22 01:59:00   0.20  0.02   \n",
       "4  2022-10-22 02:00:00  2022-10-22 00:00:00  2022-10-22 02:29:00   0.10  0.01   \n",
       "\n",
       "         USAGE_DUR  \n",
       "0  0 days 00:29:00  \n",
       "1  0 days 00:29:00  \n",
       "2  0 days 00:29:00  \n",
       "3  0 days 00:29:00  \n",
       "4  0 days 00:29:00  "
      ]
     },
     "execution_count": 4,
     "metadata": {},
     "output_type": "execute_result"
    }
   ],
   "source": [
    "print(energy_df.columns)\n",
    "energy_df.head()"
   ]
  },
  {
   "cell_type": "code",
   "execution_count": 5,
   "metadata": {
    "scrolled": true
   },
   "outputs": [
    {
     "data": {
      "text/html": [
       "<div>\n",
       "<style scoped>\n",
       "    .dataframe tbody tr th:only-of-type {\n",
       "        vertical-align: middle;\n",
       "    }\n",
       "\n",
       "    .dataframe tbody tr th {\n",
       "        vertical-align: top;\n",
       "    }\n",
       "\n",
       "    .dataframe thead th {\n",
       "        text-align: right;\n",
       "    }\n",
       "</style>\n",
       "<table border=\"1\" class=\"dataframe\">\n",
       "  <thead>\n",
       "    <tr style=\"text-align: right;\">\n",
       "      <th></th>\n",
       "      <th>START_TIME</th>\n",
       "      <th>DATE</th>\n",
       "      <th>END_TIME</th>\n",
       "      <th>USAGE</th>\n",
       "      <th>COST</th>\n",
       "      <th>USAGE_DUR</th>\n",
       "    </tr>\n",
       "  </thead>\n",
       "  <tbody>\n",
       "    <tr>\n",
       "      <th>0</th>\n",
       "      <td>2022-10-22 00:00:00</td>\n",
       "      <td>2022-10-22</td>\n",
       "      <td>2022-10-22 00:29:00</td>\n",
       "      <td>0.11</td>\n",
       "      <td>0.01</td>\n",
       "      <td>0 days 00:29:00</td>\n",
       "    </tr>\n",
       "    <tr>\n",
       "      <th>1</th>\n",
       "      <td>2022-10-22 00:30:00</td>\n",
       "      <td>2022-10-22</td>\n",
       "      <td>2022-10-22 00:59:00</td>\n",
       "      <td>0.13</td>\n",
       "      <td>0.02</td>\n",
       "      <td>0 days 00:29:00</td>\n",
       "    </tr>\n",
       "    <tr>\n",
       "      <th>2</th>\n",
       "      <td>2022-10-22 01:00:00</td>\n",
       "      <td>2022-10-22</td>\n",
       "      <td>2022-10-22 01:29:00</td>\n",
       "      <td>0.09</td>\n",
       "      <td>0.01</td>\n",
       "      <td>0 days 00:29:00</td>\n",
       "    </tr>\n",
       "    <tr>\n",
       "      <th>3</th>\n",
       "      <td>2022-10-22 01:30:00</td>\n",
       "      <td>2022-10-22</td>\n",
       "      <td>2022-10-22 01:59:00</td>\n",
       "      <td>0.20</td>\n",
       "      <td>0.02</td>\n",
       "      <td>0 days 00:29:00</td>\n",
       "    </tr>\n",
       "    <tr>\n",
       "      <th>4</th>\n",
       "      <td>2022-10-22 02:00:00</td>\n",
       "      <td>2022-10-22</td>\n",
       "      <td>2022-10-22 02:29:00</td>\n",
       "      <td>0.10</td>\n",
       "      <td>0.01</td>\n",
       "      <td>0 days 00:29:00</td>\n",
       "    </tr>\n",
       "  </tbody>\n",
       "</table>\n",
       "</div>"
      ],
      "text/plain": [
       "           START_TIME       DATE            END_TIME  USAGE  COST  \\\n",
       "0 2022-10-22 00:00:00 2022-10-22 2022-10-22 00:29:00   0.11  0.01   \n",
       "1 2022-10-22 00:30:00 2022-10-22 2022-10-22 00:59:00   0.13  0.02   \n",
       "2 2022-10-22 01:00:00 2022-10-22 2022-10-22 01:29:00   0.09  0.01   \n",
       "3 2022-10-22 01:30:00 2022-10-22 2022-10-22 01:59:00   0.20  0.02   \n",
       "4 2022-10-22 02:00:00 2022-10-22 2022-10-22 02:29:00   0.10  0.01   \n",
       "\n",
       "         USAGE_DUR  \n",
       "0  0 days 00:29:00  \n",
       "1  0 days 00:29:00  \n",
       "2  0 days 00:29:00  \n",
       "3  0 days 00:29:00  \n",
       "4  0 days 00:29:00  "
      ]
     },
     "execution_count": 5,
     "metadata": {},
     "output_type": "execute_result"
    }
   ],
   "source": [
    "# convert strings stored in csv to their proper datetime objs\n",
    "energy_df['START_TIME'] = pd.to_datetime(energy_df['START_TIME'], infer_datetime_format=True)\n",
    "energy_df['END_TIME'] = pd.to_datetime(energy_df['END_TIME'], infer_datetime_format=True)\n",
    "energy_df['DATE'] =  pd.to_datetime(energy_df['DATE'], format='%Y-%m-%d')\n",
    "energy_df.head()"
   ]
  },
  {
   "cell_type": "code",
   "execution_count": 8,
   "metadata": {},
   "outputs": [
    {
     "name": "stdout",
     "output_type": "stream",
     "text": [
      "2022-10-22 00:00:00  to  2023-10-21 00:00:00\n"
     ]
    }
   ],
   "source": [
    "# get the date range for the data\n",
    "start_date = energy_df['DATE'].min()\n",
    "end_date = energy_df['DATE'].max()\n",
    "print(start_date, ' to ', end_date)"
   ]
  },
  {
   "cell_type": "markdown",
   "metadata": {},
   "source": [
    "# Graph Ideas\n",
    "* Time Series Plot\n",
    "* bucket usage by week\n",
    "* bucket usage by hour\n",
    "* buckec the previous graphs by season"
   ]
  },
  {
   "cell_type": "code",
   "execution_count": 15,
   "metadata": {},
   "outputs": [
    {
     "data": {
      "image/png": "[encoded data removed]",
      "text/plain": [
       "<Figure size 720x432 with 1 Axes>"
      ]
     },
     "metadata": {
      "needs_background": "light"
     },
     "output_type": "display_data"
    }
   ],
   "source": [
    "# Group by 'DATE' and sum 'USAGE' for each date\n",
    "grouped = energy_df.groupby('DATE')['USAGE'].sum().reset_index()\n",
    "\n",
    "# Extract year and month to create a new column\n",
    "grouped['YearMonth'] = grouped['DATE'].dt.to_period('M')\n",
    "\n",
    "# Create a Time Series plot\n",
    "plt.figure(figsize=(10, 6))\n",
    "# plt.plot(grouped['DATE'], grouped['USAGE'])\n",
    "x_axis = start_date.strftime(\"%m.%d.%Y\") + '   to   ' + end_date.strftime(\"%m.%d.%Y\")\n",
    "plt.xlabel(x_axis)\n",
    "plt.ylabel('Total Usage in kwh')\n",
    "plt.title('Energy Usage')\n",
    "plt.xticks(grouped['YearMonth'].dt.to_timestamp(), grouped['YearMonth'].dt.strftime('%b'), rotation=45)\n",
    "\n",
    "\n",
    "# Smoothed Line Plot (rolling average every week)\n",
    "smoothed = grouped.set_index('DATE').rolling(window=7).mean()  # Adjust window for smoothing\n",
    "plt.plot(smoothed.index, smoothed['USAGE'], label='weekly_avg', color='grey')\n",
    "\n",
    "\n",
    "# Smoothed Line Plot (rolling average every 2 weeks)\n",
    "smoothed2 = grouped.set_index('DATE').rolling(window=14).mean()  # Adjust window for smoothing\n",
    "plt.plot(smoothed2.index, smoothed2['USAGE'], label='2_week_avg', color='black')\n",
    "\n",
    "\n",
    "# Plotting vertical lines for each month\n",
    "for date in grouped['YearMonth'].dt.to_timestamp():\n",
    "    plt.axvline(x=date, color='gray', linestyle=':')\n",
    "\n",
    "plt.show()"
   ]
  },
  {
   "cell_type": "code",
   "execution_count": null,
   "metadata": {},
   "outputs": [],
   "source": []
  }
 ],
 "metadata": {
  "environment": {
   "kernel": "python3",
   "name": "pytorch-gpu.1-13.m103",
   "type": "gcloud",
   "uri": "gcr.io/deeplearning-platform-release/pytorch-gpu.1-13:m103"
  },
  "kernelspec": {
   "display_name": "Python 3",
   "language": "python",
   "name": "python3"
  },
  "language_info": {
   "codemirror_mode": {
    "name": "ipython",
    "version": 3
   },
   "file_extension": ".py",
   "mimetype": "text/x-python",
   "name": "python",
   "nbconvert_exporter": "python",
   "pygments_lexer": "ipython3",
   "version": "3.8.10"
  }
 },
 "nbformat": 4,
 "nbformat_minor": 5
}
