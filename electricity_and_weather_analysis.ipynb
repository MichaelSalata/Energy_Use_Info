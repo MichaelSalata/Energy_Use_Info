{
 "cells": [
  {
   "cell_type": "markdown",
   "metadata": {},
   "source": [
    "# Electricity & Weather Data Analysis"
   ]
  },
  {
   "cell_type": "markdown",
   "metadata": {},
   "source": [
    "# Introduction\n",
    "This project is meant to gather insights on electricity usage.\n",
    "\n",
    "This file will look for insights into electricity usage using weather data from the same time frame.\n",
    "\n",
    "## Data\n",
    "* This uses data cleaned with \"green_button_data_cleaning.ipynb\": clean_energy_use_*.csv\n",
    "* This uses data cleaned with \"weather_data_cleaning.ipynb.ipynb\": clean_weather_*.csv\n",
    "\n",
    "\n",
    "## Original Energy Data Source\n",
    "Data is from my energy company(ComEd) from the past year. 10_22_2022 to 10_22_2023\n",
    "Data from the [My Green Button](https://secure.comed.com/MyAccount/MyBillUsage/pages/secure/GreenButtonConnectDownloadMyData.aspx) webpage on the ComEd website.\n",
    "\n",
    "## Original Weather Data Source\n",
    "This data was collected using [Meteostat](https://github.com/meteostat/meteostat-python). The Meteostat Python library provides a simple API for accessing open weather and climate data. The historical observations and statistics are collected by Meteostat from different public interfaces, most of which are governmental.\n",
    "\n",
    "Among the data sources are national weather services like the National Oceanic and Atmospheric Administration (NOAA) and Germany's national meteorological service (DWD)."
   ]
  },
  {
   "cell_type": "markdown",
   "metadata": {},
   "source": [
    "# Column / header info\n"
   ]
  },
  {
   "cell_type": "code",
   "execution_count": 212,
   "metadata": {},
   "outputs": [],
   "source": [
    "import pandas as pd\n",
    "import numpy as np\n",
    "import matplotlib.pyplot as plt"
   ]
  },
  {
   "cell_type": "code",
   "execution_count": null,
   "metadata": {},
   "outputs": [],
   "source": []
  },
  {
   "cell_type": "markdown",
   "metadata": {},
   "source": [
    "# Hourly Usage Analysis\n",
    "\n",
    "## Warm Months\n",
    "It seems our electricity usage directly correlates with the sunlight hours of the day(8am-8pm). This makes sense for 2 reasons:\n",
    "* We'd use the air conditioner for cooling during those hours.\n",
    "* Those are the awake hours, so we'd use appliances during those hours.\n",
    "\n",
    "## Cold Months\n",
    "* Heating/Cooling USAGE should inversely correlate with sunlight hours.\n",
    "* Other appliance USAGE still should correlate with sunlight hours.\n",
    "These 2 USAGE timelines inversely correlate.\n",
    "\n",
    "\n",
    "## Comparison\n",
    "Cold months have about 3x the electricity USAGE than warm months. This likely has 2 causes.\n",
    "* Chicago winters are much worse than the summers.\n",
    "* Our heaters are MUCH less efficient than our air conditioners."
   ]
  },
  {
   "cell_type": "code",
   "execution_count": null,
   "metadata": {},
   "outputs": [],
   "source": []
  }
 ],
 "metadata": {
  "environment": {
   "kernel": "python3",
   "name": "pytorch-gpu.1-13.m103",
   "type": "gcloud",
   "uri": "gcr.io/deeplearning-platform-release/pytorch-gpu.1-13:m103"
  },
  "kernelspec": {
   "display_name": "Python 3",
   "language": "python",
   "name": "python3"
  },
  "language_info": {
   "codemirror_mode": {
    "name": "ipython",
    "version": 3
   },
   "file_extension": ".py",
   "mimetype": "text/x-python",
   "name": "python",
   "nbconvert_exporter": "python",
   "pygments_lexer": "ipython3",
   "version": "3.8.10"
  }
 },
 "nbformat": 4,
 "nbformat_minor": 5
}
