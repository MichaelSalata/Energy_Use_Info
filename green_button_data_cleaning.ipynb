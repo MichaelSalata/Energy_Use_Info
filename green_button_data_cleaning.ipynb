{
 "cells": [
  {
   "cell_type": "markdown",
   "id": "23521af9",
   "metadata": {},
   "source": [
    "# Energy Use Data Cleaning"
   ]
  },
  {
   "cell_type": "markdown",
   "id": "bc36461e",
   "metadata": {},
   "source": [
    "# Introduction\n",
    "This project is meant to gather insights on electricity usage.\n",
    "The 1st steps needed are to clean up the raw data so, it's usable for visualizations and machine learning algorthms.\n",
    "\n",
    "## Data Source\n",
    "Data is from my energy company(ComEd) from the past year. 10_22_2022 to 10_22_2023\n",
    "Data from the [My Green Button](https://secure.comed.com/MyAccount/MyBillUsage/pages/secure/GreenButtonConnectDownloadMyData.aspx) webpage on the ComEd website."
   ]
  },
  {
   "cell_type": "markdown",
   "id": "1cb5842c",
   "metadata": {},
   "source": [
    "# Goals\n",
    "* become familiar with the columns in the dataset\n",
    "* remove redundant data\n",
    "* clean anomalous data"
   ]
  },
  {
   "cell_type": "markdown",
   "id": "85db1bc0",
   "metadata": {},
   "source": [
    "# Column / header info\n",
    "* **TYPE**: Electric usage\n",
    "* **DATE**: Day recorded\n",
    "* **START TIME**: start of recording in Hour:Minutes\n",
    "* **END TIME**: end of recording in Hour:Minutes\n",
    "* **USAGE**: Electric usage in kWh\n",
    "* **UNITS**: Electric usage metric\n",
    "* **COST**: amount charged for energy usage in USD\n",
    "* **NOTES**: useless data"
   ]
  },
  {
   "cell_type": "code",
   "execution_count": 24,
   "id": "1407f710",
   "metadata": {},
   "outputs": [],
   "source": [
    "import pandas as pd\n",
    "import numpy as np"
   ]
  },
  {
   "cell_type": "code",
   "execution_count": 25,
   "id": "e84d1831",
   "metadata": {},
   "outputs": [],
   "source": [
    "# Import the energy use spreadsheet from the 'data' directory\n",
    "\n",
    "# Define the directory path and the regular expression pattern\n",
    "import glob\n",
    "directory_path = \"./data\"\n",
    "file_pattern = \"energy_use*.csv\"\n",
    "\n",
    "# Use glob.glob to match filenames based on the pattern\n",
    "file_path = glob.glob(f\"{directory_path}/{file_pattern}\")[0]\n",
    "energy_df_raw = pd.read_csv(filepath_or_buffer=file_path, header=4)"
   ]
  },
  {
   "cell_type": "code",
   "execution_count": 26,
   "id": "8a0686d1",
   "metadata": {},
   "outputs": [
    {
     "name": "stdout",
     "output_type": "stream",
     "text": [
      "Index(['TYPE', 'DATE', 'START TIME', 'END TIME', 'USAGE', 'UNITS', 'COST',\n",
      "       'NOTES'],\n",
      "      dtype='object')\n"
     ]
    },
    {
     "data": {
      "text/html": [
       "<div>\n",
       "<style scoped>\n",
       "    .dataframe tbody tr th:only-of-type {\n",
       "        vertical-align: middle;\n",
       "    }\n",
       "\n",
       "    .dataframe tbody tr th {\n",
       "        vertical-align: top;\n",
       "    }\n",
       "\n",
       "    .dataframe thead th {\n",
       "        text-align: right;\n",
       "    }\n",
       "</style>\n",
       "<table border=\"1\" class=\"dataframe\">\n",
       "  <thead>\n",
       "    <tr style=\"text-align: right;\">\n",
       "      <th></th>\n",
       "      <th>TYPE</th>\n",
       "      <th>DATE</th>\n",
       "      <th>START TIME</th>\n",
       "      <th>END TIME</th>\n",
       "      <th>USAGE</th>\n",
       "      <th>UNITS</th>\n",
       "      <th>COST</th>\n",
       "      <th>NOTES</th>\n",
       "    </tr>\n",
       "  </thead>\n",
       "  <tbody>\n",
       "    <tr>\n",
       "      <th>0</th>\n",
       "      <td>Electric usage</td>\n",
       "      <td>2022-10-22</td>\n",
       "      <td>00:00</td>\n",
       "      <td>00:29</td>\n",
       "      <td>0.11</td>\n",
       "      <td>kWh</td>\n",
       "      <td>$0.01</td>\n",
       "      <td>NaN</td>\n",
       "    </tr>\n",
       "    <tr>\n",
       "      <th>1</th>\n",
       "      <td>Electric usage</td>\n",
       "      <td>2022-10-22</td>\n",
       "      <td>00:30</td>\n",
       "      <td>00:59</td>\n",
       "      <td>0.13</td>\n",
       "      <td>kWh</td>\n",
       "      <td>$0.02</td>\n",
       "      <td>NaN</td>\n",
       "    </tr>\n",
       "    <tr>\n",
       "      <th>2</th>\n",
       "      <td>Electric usage</td>\n",
       "      <td>2022-10-22</td>\n",
       "      <td>01:00</td>\n",
       "      <td>01:29</td>\n",
       "      <td>0.09</td>\n",
       "      <td>kWh</td>\n",
       "      <td>$0.01</td>\n",
       "      <td>NaN</td>\n",
       "    </tr>\n",
       "    <tr>\n",
       "      <th>3</th>\n",
       "      <td>Electric usage</td>\n",
       "      <td>2022-10-22</td>\n",
       "      <td>01:30</td>\n",
       "      <td>01:59</td>\n",
       "      <td>0.20</td>\n",
       "      <td>kWh</td>\n",
       "      <td>$0.02</td>\n",
       "      <td>NaN</td>\n",
       "    </tr>\n",
       "    <tr>\n",
       "      <th>4</th>\n",
       "      <td>Electric usage</td>\n",
       "      <td>2022-10-22</td>\n",
       "      <td>02:00</td>\n",
       "      <td>02:29</td>\n",
       "      <td>0.10</td>\n",
       "      <td>kWh</td>\n",
       "      <td>$0.01</td>\n",
       "      <td>NaN</td>\n",
       "    </tr>\n",
       "  </tbody>\n",
       "</table>\n",
       "</div>"
      ],
      "text/plain": [
       "             TYPE        DATE START TIME END TIME  USAGE UNITS   COST  NOTES\n",
       "0  Electric usage  2022-10-22      00:00    00:29   0.11   kWh  $0.01    NaN\n",
       "1  Electric usage  2022-10-22      00:30    00:59   0.13   kWh  $0.02    NaN\n",
       "2  Electric usage  2022-10-22      01:00    01:29   0.09   kWh  $0.01    NaN\n",
       "3  Electric usage  2022-10-22      01:30    01:59   0.20   kWh  $0.02    NaN\n",
       "4  Electric usage  2022-10-22      02:00    02:29   0.10   kWh  $0.01    NaN"
      ]
     },
     "execution_count": 26,
     "metadata": {},
     "output_type": "execute_result"
    }
   ],
   "source": [
    "print(energy_df_raw.columns)\n",
    "energy_df_raw.head()"
   ]
  },
  {
   "cell_type": "code",
   "execution_count": 27,
   "id": "427c7369",
   "metadata": {
    "scrolled": false
   },
   "outputs": [
    {
     "name": "stdout",
     "output_type": "stream",
     "text": [
      "<class 'pandas.core.frame.DataFrame'>\n",
      "RangeIndex: 17520 entries, 0 to 17519\n",
      "Data columns (total 8 columns):\n",
      " #   Column      Non-Null Count  Dtype  \n",
      "---  ------      --------------  -----  \n",
      " 0   TYPE        17520 non-null  object \n",
      " 1   DATE        17520 non-null  object \n",
      " 2   START TIME  17520 non-null  object \n",
      " 3   END TIME    17520 non-null  object \n",
      " 4   USAGE       17520 non-null  float64\n",
      " 5   UNITS       17520 non-null  object \n",
      " 6   COST        17520 non-null  object \n",
      " 7   NOTES       0 non-null      float64\n",
      "dtypes: float64(2), object(6)\n",
      "memory usage: 1.1+ MB\n"
     ]
    }
   ],
   "source": [
    "energy_df_raw.info()"
   ]
  },
  {
   "cell_type": "markdown",
   "id": "ebe90fb3",
   "metadata": {},
   "source": [
    "# Observations & TODOs\n",
    "* column titles have a space in them, change to underscore\n",
    "* start-end time intervals seem to be all the same\n",
    "* 'TYPE', 'UNITS', 'NOTES' columns seem to have no variation in values.  aka can be removed.\n",
    "* 'COST' is in text format instead of numeric\n",
    "* 2 columns for date & time can be combined into datetime objs\n",
    "* a usage duration column would likely simplify future data visulization/modeling"
   ]
  },
  {
   "cell_type": "code",
   "execution_count": 28,
   "id": "7b0e46bd",
   "metadata": {},
   "outputs": [],
   "source": [
    "# copy raw data into a df to be cleaned\n",
    "energy_df = energy_df_raw.copy()"
   ]
  },
  {
   "cell_type": "code",
   "execution_count": 29,
   "id": "f2ad2f27",
   "metadata": {},
   "outputs": [],
   "source": [
    "# replace the spaces in column titles with underscores\n",
    "energy_df.columns = energy_df.columns.str.replace(' ', '_')"
   ]
  },
  {
   "cell_type": "code",
   "execution_count": 30,
   "id": "f824a9dc",
   "metadata": {
    "scrolled": true
   },
   "outputs": [
    {
     "name": "stdout",
     "output_type": "stream",
     "text": [
      "['00:00' '00:30' '01:00' '01:30' '02:00' '02:30' '03:00' '03:30' '04:00'\n",
      " '04:30' '05:00' '05:30' '06:00' '06:30' '07:00' '07:30' '08:00' '08:30'\n",
      " '09:00' '09:30' '10:00' '10:30' '11:00' '11:30' '12:00' '12:30' '13:00'\n",
      " '13:30' '14:00' '14:30' '15:00' '15:30' '16:00' '16:30' '17:00' '17:30'\n",
      " '18:00' '18:30' '19:00' '19:30' '20:00' '20:30' '21:00' '21:30' '22:00'\n",
      " '22:30' '23:00' '23:30']\n",
      "['00:29' '00:59' '01:29' '01:59' '02:29' '02:59' '03:29' '03:59' '04:29'\n",
      " '04:59' '05:29' '05:59' '06:29' '06:59' '07:29' '07:59' '08:29' '08:59'\n",
      " '09:29' '09:59' '10:29' '10:59' '11:29' '11:59' '12:29' '12:59' '13:29'\n",
      " '13:59' '14:29' '14:59' '15:29' '15:59' '16:29' '16:59' '17:29' '17:59'\n",
      " '18:29' '18:59' '19:29' '19:59' '20:29' '20:59' '21:29' '21:59' '22:29'\n",
      " '22:59' '23:29' '23:59']\n"
     ]
    }
   ],
   "source": [
    "# Check how homogenous are start & end times\n",
    "print(energy_df['START_TIME'].unique())\n",
    "print(energy_df['END_TIME'].unique())"
   ]
  },
  {
   "cell_type": "markdown",
   "id": "e97418af",
   "metadata": {},
   "source": [
    "## NOTE: Why start & end times have 0 variance are kept\n",
    "I chose to keep start & end times because in future plans to generalize the project, there will likely be variance in these columns. This can cause problems with the API / Pipeline / generalizing the project and these columns could be useful in dealing with those problems."
   ]
  },
  {
   "cell_type": "code",
   "execution_count": 31,
   "id": "67bebf13",
   "metadata": {},
   "outputs": [
    {
     "name": "stdout",
     "output_type": "stream",
     "text": [
      "[array(['Electric usage'], dtype=object), array(['kWh'], dtype=object), array([nan])]\n"
     ]
    }
   ],
   "source": [
    "# Printing all the unique values of uninteresting columns\n",
    "print([energy_df['TYPE'].unique(),\n",
    "    energy_df['UNITS'].unique(),\n",
    "    energy_df['NOTES'].unique()])"
   ]
  },
  {
   "cell_type": "code",
   "execution_count": 32,
   "id": "4a8c6ff2",
   "metadata": {
    "scrolled": true
   },
   "outputs": [
    {
     "data": {
      "text/html": [
       "<div>\n",
       "<style scoped>\n",
       "    .dataframe tbody tr th:only-of-type {\n",
       "        vertical-align: middle;\n",
       "    }\n",
       "\n",
       "    .dataframe tbody tr th {\n",
       "        vertical-align: top;\n",
       "    }\n",
       "\n",
       "    .dataframe thead th {\n",
       "        text-align: right;\n",
       "    }\n",
       "</style>\n",
       "<table border=\"1\" class=\"dataframe\">\n",
       "  <thead>\n",
       "    <tr style=\"text-align: right;\">\n",
       "      <th></th>\n",
       "      <th>DATE</th>\n",
       "      <th>START_TIME</th>\n",
       "      <th>END_TIME</th>\n",
       "      <th>USAGE</th>\n",
       "      <th>COST</th>\n",
       "    </tr>\n",
       "  </thead>\n",
       "  <tbody>\n",
       "    <tr>\n",
       "      <th>0</th>\n",
       "      <td>2022-10-22</td>\n",
       "      <td>00:00</td>\n",
       "      <td>00:29</td>\n",
       "      <td>0.11</td>\n",
       "      <td>$0.01</td>\n",
       "    </tr>\n",
       "    <tr>\n",
       "      <th>1</th>\n",
       "      <td>2022-10-22</td>\n",
       "      <td>00:30</td>\n",
       "      <td>00:59</td>\n",
       "      <td>0.13</td>\n",
       "      <td>$0.02</td>\n",
       "    </tr>\n",
       "    <tr>\n",
       "      <th>2</th>\n",
       "      <td>2022-10-22</td>\n",
       "      <td>01:00</td>\n",
       "      <td>01:29</td>\n",
       "      <td>0.09</td>\n",
       "      <td>$0.01</td>\n",
       "    </tr>\n",
       "    <tr>\n",
       "      <th>3</th>\n",
       "      <td>2022-10-22</td>\n",
       "      <td>01:30</td>\n",
       "      <td>01:59</td>\n",
       "      <td>0.20</td>\n",
       "      <td>$0.02</td>\n",
       "    </tr>\n",
       "    <tr>\n",
       "      <th>4</th>\n",
       "      <td>2022-10-22</td>\n",
       "      <td>02:00</td>\n",
       "      <td>02:29</td>\n",
       "      <td>0.10</td>\n",
       "      <td>$0.01</td>\n",
       "    </tr>\n",
       "  </tbody>\n",
       "</table>\n",
       "</div>"
      ],
      "text/plain": [
       "         DATE START_TIME END_TIME  USAGE   COST\n",
       "0  2022-10-22      00:00    00:29   0.11  $0.01\n",
       "1  2022-10-22      00:30    00:59   0.13  $0.02\n",
       "2  2022-10-22      01:00    01:29   0.09  $0.01\n",
       "3  2022-10-22      01:30    01:59   0.20  $0.02\n",
       "4  2022-10-22      02:00    02:29   0.10  $0.01"
      ]
     },
     "execution_count": 32,
     "metadata": {},
     "output_type": "execute_result"
    }
   ],
   "source": [
    "# copy the raw df for cleaning\n",
    "# dropping columns with 0 variance\n",
    "energy_df = energy_df.drop(['TYPE', 'UNITS', 'NOTES'], axis='columns')\n",
    "energy_df.head()"
   ]
  },
  {
   "cell_type": "code",
   "execution_count": 33,
   "id": "f97139f2",
   "metadata": {},
   "outputs": [],
   "source": [
    "# format the COST column to numeric\n",
    "energy_df['COST'] = energy_df['COST'].str.replace('$', '', regex=True).astype(float)"
   ]
  },
  {
   "cell_type": "markdown",
   "id": "6f700944",
   "metadata": {},
   "source": [
    "## THOUGHTS: change COST to integer vs float?\n",
    "It's probably better to format COST column as an integer representing the COST as an integer of pennies to avoid floating point rounding. This would require reformatting the USAGE column to be logically consistent and changing the kwh in the col description.\n",
    "\n",
    "The imprecision loss from floating point rounding would likely be negligent especially considering there is already a precision loss from the penny cost rounding from the energy company probably does."
   ]
  },
  {
   "cell_type": "code",
   "execution_count": 34,
   "id": "7cbabdb6",
   "metadata": {
    "scrolled": true
   },
   "outputs": [
    {
     "name": "stdout",
     "output_type": "stream",
     "text": [
      "<class 'pandas.core.frame.DataFrame'>\n",
      "RangeIndex: 17520 entries, 0 to 17519\n",
      "Data columns (total 5 columns):\n",
      " #   Column      Non-Null Count  Dtype  \n",
      "---  ------      --------------  -----  \n",
      " 0   DATE        17520 non-null  object \n",
      " 1   START_TIME  17520 non-null  object \n",
      " 2   END_TIME    17520 non-null  object \n",
      " 3   USAGE       17520 non-null  float64\n",
      " 4   COST        17520 non-null  float64\n",
      "dtypes: float64(2), object(3)\n",
      "memory usage: 684.5+ KB\n"
     ]
    }
   ],
   "source": [
    "energy_df.info()"
   ]
  },
  {
   "cell_type": "code",
   "execution_count": 35,
   "id": "72336d48",
   "metadata": {
    "scrolled": true
   },
   "outputs": [],
   "source": [
    "# converted the START, END columns to datetime format\n",
    "energy_df['DATE_TIME'] = energy_df['DATE'] + ' ' + energy_df['START_TIME']\n",
    "energy_df['START_TIME'] = pd.to_datetime(energy_df['DATE_TIME'], infer_datetime_format=True)\n",
    "\n",
    "energy_df['DATE_TIME'] = energy_df['DATE'] + ' ' + energy_df['END_TIME']\n",
    "energy_df['END_TIME'] = pd.to_datetime(energy_df['DATE_TIME'], infer_datetime_format=True)\n",
    "energy_df.drop(columns='DATE_TIME', inplace=True)"
   ]
  },
  {
   "cell_type": "code",
   "execution_count": 36,
   "id": "cdbe2a73",
   "metadata": {
    "scrolled": true
   },
   "outputs": [
    {
     "name": "stdout",
     "output_type": "stream",
     "text": [
      "<class 'pandas.core.frame.DataFrame'>\n",
      "RangeIndex: 17520 entries, 0 to 17519\n",
      "Data columns (total 5 columns):\n",
      " #   Column      Non-Null Count  Dtype         \n",
      "---  ------      --------------  -----         \n",
      " 0   DATE        17520 non-null  datetime64[ns]\n",
      " 1   START_TIME  17520 non-null  datetime64[ns]\n",
      " 2   END_TIME    17520 non-null  datetime64[ns]\n",
      " 3   USAGE       17520 non-null  float64       \n",
      " 4   COST        17520 non-null  float64       \n",
      "dtypes: datetime64[ns](3), float64(2)\n",
      "memory usage: 684.5 KB\n"
     ]
    },
    {
     "data": {
      "text/html": [
       "<div>\n",
       "<style scoped>\n",
       "    .dataframe tbody tr th:only-of-type {\n",
       "        vertical-align: middle;\n",
       "    }\n",
       "\n",
       "    .dataframe tbody tr th {\n",
       "        vertical-align: top;\n",
       "    }\n",
       "\n",
       "    .dataframe thead th {\n",
       "        text-align: right;\n",
       "    }\n",
       "</style>\n",
       "<table border=\"1\" class=\"dataframe\">\n",
       "  <thead>\n",
       "    <tr style=\"text-align: right;\">\n",
       "      <th></th>\n",
       "      <th>DATE</th>\n",
       "      <th>START_TIME</th>\n",
       "      <th>END_TIME</th>\n",
       "      <th>USAGE</th>\n",
       "      <th>COST</th>\n",
       "    </tr>\n",
       "  </thead>\n",
       "  <tbody>\n",
       "    <tr>\n",
       "      <th>0</th>\n",
       "      <td>2022-10-22</td>\n",
       "      <td>2022-10-22 00:00:00</td>\n",
       "      <td>2022-10-22 00:29:00</td>\n",
       "      <td>0.11</td>\n",
       "      <td>0.01</td>\n",
       "    </tr>\n",
       "    <tr>\n",
       "      <th>1</th>\n",
       "      <td>2022-10-22</td>\n",
       "      <td>2022-10-22 00:30:00</td>\n",
       "      <td>2022-10-22 00:59:00</td>\n",
       "      <td>0.13</td>\n",
       "      <td>0.02</td>\n",
       "    </tr>\n",
       "    <tr>\n",
       "      <th>2</th>\n",
       "      <td>2022-10-22</td>\n",
       "      <td>2022-10-22 01:00:00</td>\n",
       "      <td>2022-10-22 01:29:00</td>\n",
       "      <td>0.09</td>\n",
       "      <td>0.01</td>\n",
       "    </tr>\n",
       "    <tr>\n",
       "      <th>3</th>\n",
       "      <td>2022-10-22</td>\n",
       "      <td>2022-10-22 01:30:00</td>\n",
       "      <td>2022-10-22 01:59:00</td>\n",
       "      <td>0.20</td>\n",
       "      <td>0.02</td>\n",
       "    </tr>\n",
       "    <tr>\n",
       "      <th>4</th>\n",
       "      <td>2022-10-22</td>\n",
       "      <td>2022-10-22 02:00:00</td>\n",
       "      <td>2022-10-22 02:29:00</td>\n",
       "      <td>0.10</td>\n",
       "      <td>0.01</td>\n",
       "    </tr>\n",
       "  </tbody>\n",
       "</table>\n",
       "</div>"
      ],
      "text/plain": [
       "        DATE          START_TIME            END_TIME  USAGE  COST\n",
       "0 2022-10-22 2022-10-22 00:00:00 2022-10-22 00:29:00   0.11  0.01\n",
       "1 2022-10-22 2022-10-22 00:30:00 2022-10-22 00:59:00   0.13  0.02\n",
       "2 2022-10-22 2022-10-22 01:00:00 2022-10-22 01:29:00   0.09  0.01\n",
       "3 2022-10-22 2022-10-22 01:30:00 2022-10-22 01:59:00   0.20  0.02\n",
       "4 2022-10-22 2022-10-22 02:00:00 2022-10-22 02:29:00   0.10  0.01"
      ]
     },
     "execution_count": 36,
     "metadata": {},
     "output_type": "execute_result"
    }
   ],
   "source": [
    "# convert the DATE to datetime format\n",
    "energy_df['DATE'] = pd.to_datetime(energy_df['DATE'], infer_datetime_format=True)\n",
    "energy_df.info()\n",
    "energy_df.head()"
   ]
  },
  {
   "cell_type": "code",
   "execution_count": 37,
   "id": "216655c1",
   "metadata": {
    "scrolled": false
   },
   "outputs": [
    {
     "data": {
      "text/html": [
       "<div>\n",
       "<style scoped>\n",
       "    .dataframe tbody tr th:only-of-type {\n",
       "        vertical-align: middle;\n",
       "    }\n",
       "\n",
       "    .dataframe tbody tr th {\n",
       "        vertical-align: top;\n",
       "    }\n",
       "\n",
       "    .dataframe thead th {\n",
       "        text-align: right;\n",
       "    }\n",
       "</style>\n",
       "<table border=\"1\" class=\"dataframe\">\n",
       "  <thead>\n",
       "    <tr style=\"text-align: right;\">\n",
       "      <th></th>\n",
       "      <th>DATE</th>\n",
       "      <th>START_TIME</th>\n",
       "      <th>END_TIME</th>\n",
       "      <th>USAGE</th>\n",
       "      <th>COST</th>\n",
       "      <th>USAGE_DUR</th>\n",
       "    </tr>\n",
       "  </thead>\n",
       "  <tbody>\n",
       "    <tr>\n",
       "      <th>0</th>\n",
       "      <td>2022-10-22</td>\n",
       "      <td>2022-10-22 00:00:00</td>\n",
       "      <td>2022-10-22 00:29:00</td>\n",
       "      <td>0.11</td>\n",
       "      <td>0.01</td>\n",
       "      <td>0 days 00:29:00</td>\n",
       "    </tr>\n",
       "    <tr>\n",
       "      <th>1</th>\n",
       "      <td>2022-10-22</td>\n",
       "      <td>2022-10-22 00:30:00</td>\n",
       "      <td>2022-10-22 00:59:00</td>\n",
       "      <td>0.13</td>\n",
       "      <td>0.02</td>\n",
       "      <td>0 days 00:29:00</td>\n",
       "    </tr>\n",
       "    <tr>\n",
       "      <th>2</th>\n",
       "      <td>2022-10-22</td>\n",
       "      <td>2022-10-22 01:00:00</td>\n",
       "      <td>2022-10-22 01:29:00</td>\n",
       "      <td>0.09</td>\n",
       "      <td>0.01</td>\n",
       "      <td>0 days 00:29:00</td>\n",
       "    </tr>\n",
       "    <tr>\n",
       "      <th>3</th>\n",
       "      <td>2022-10-22</td>\n",
       "      <td>2022-10-22 01:30:00</td>\n",
       "      <td>2022-10-22 01:59:00</td>\n",
       "      <td>0.20</td>\n",
       "      <td>0.02</td>\n",
       "      <td>0 days 00:29:00</td>\n",
       "    </tr>\n",
       "    <tr>\n",
       "      <th>4</th>\n",
       "      <td>2022-10-22</td>\n",
       "      <td>2022-10-22 02:00:00</td>\n",
       "      <td>2022-10-22 02:29:00</td>\n",
       "      <td>0.10</td>\n",
       "      <td>0.01</td>\n",
       "      <td>0 days 00:29:00</td>\n",
       "    </tr>\n",
       "  </tbody>\n",
       "</table>\n",
       "</div>"
      ],
      "text/plain": [
       "        DATE          START_TIME            END_TIME  USAGE  COST  \\\n",
       "0 2022-10-22 2022-10-22 00:00:00 2022-10-22 00:29:00   0.11  0.01   \n",
       "1 2022-10-22 2022-10-22 00:30:00 2022-10-22 00:59:00   0.13  0.02   \n",
       "2 2022-10-22 2022-10-22 01:00:00 2022-10-22 01:29:00   0.09  0.01   \n",
       "3 2022-10-22 2022-10-22 01:30:00 2022-10-22 01:59:00   0.20  0.02   \n",
       "4 2022-10-22 2022-10-22 02:00:00 2022-10-22 02:29:00   0.10  0.01   \n",
       "\n",
       "        USAGE_DUR  \n",
       "0 0 days 00:29:00  \n",
       "1 0 days 00:29:00  \n",
       "2 0 days 00:29:00  \n",
       "3 0 days 00:29:00  \n",
       "4 0 days 00:29:00  "
      ]
     },
     "execution_count": 37,
     "metadata": {},
     "output_type": "execute_result"
    }
   ],
   "source": [
    "# created USAGE Duration column from START & END times\n",
    "energy_df['USAGE_DUR'] = energy_df['END_TIME'] - energy_df['START_TIME']\n",
    "\n",
    "energy_df.head()"
   ]
  },
  {
   "cell_type": "code",
   "execution_count": 38,
   "id": "b93f525a",
   "metadata": {
    "scrolled": false
   },
   "outputs": [
    {
     "name": "stdout",
     "output_type": "stream",
     "text": [
      "[ 1740000000000 80940000000000]\n"
     ]
    }
   ],
   "source": [
    "# find any anomalies in the USAGE_DUR col\n",
    "unique_durs = (energy_df['USAGE_DUR']).unique()\n",
    "print(unique_durs)"
   ]
  },
  {
   "cell_type": "code",
   "execution_count": 39,
   "id": "c05a89ea",
   "metadata": {
    "scrolled": false
   },
   "outputs": [
    {
     "data": {
      "text/html": [
       "<div>\n",
       "<style scoped>\n",
       "    .dataframe tbody tr th:only-of-type {\n",
       "        vertical-align: middle;\n",
       "    }\n",
       "\n",
       "    .dataframe tbody tr th {\n",
       "        vertical-align: top;\n",
       "    }\n",
       "\n",
       "    .dataframe thead th {\n",
       "        text-align: right;\n",
       "    }\n",
       "</style>\n",
       "<table border=\"1\" class=\"dataframe\">\n",
       "  <thead>\n",
       "    <tr style=\"text-align: right;\">\n",
       "      <th></th>\n",
       "      <th>DATE</th>\n",
       "      <th>START_TIME</th>\n",
       "      <th>END_TIME</th>\n",
       "      <th>USAGE</th>\n",
       "      <th>COST</th>\n",
       "      <th>USAGE_DUR</th>\n",
       "    </tr>\n",
       "  </thead>\n",
       "  <tbody>\n",
       "    <tr>\n",
       "      <th>723</th>\n",
       "      <td>2022-11-06</td>\n",
       "      <td>2022-11-06 01:30:00</td>\n",
       "      <td>2022-11-06 23:59:00</td>\n",
       "      <td>2.03</td>\n",
       "      <td>0.26</td>\n",
       "      <td>0 days 22:29:00</td>\n",
       "    </tr>\n",
       "  </tbody>\n",
       "</table>\n",
       "</div>"
      ],
      "text/plain": [
       "          DATE          START_TIME            END_TIME  USAGE  COST  \\\n",
       "723 2022-11-06 2022-11-06 01:30:00 2022-11-06 23:59:00   2.03  0.26   \n",
       "\n",
       "          USAGE_DUR  \n",
       "723 0 days 22:29:00  "
      ]
     },
     "execution_count": 39,
     "metadata": {},
     "output_type": "execute_result"
    }
   ],
   "source": [
    "weird_usage = energy_df[energy_df['USAGE_DUR']==unique_durs[1]]\n",
    "weird_usage.head()"
   ]
  },
  {
   "cell_type": "code",
   "execution_count": 40,
   "id": "6360da59",
   "metadata": {},
   "outputs": [
    {
     "name": "stdout",
     "output_type": "stream",
     "text": [
      "[1740000000000]\n"
     ]
    }
   ],
   "source": [
    "# drop the row with weird start/end times, verify result with checking USAGE_DUR is homagenous\n",
    "wu_start = weird_usage['START_TIME']\n",
    "energy_df.set_index('START_TIME', inplace=True)\n",
    "energy_df.drop(wu_start, inplace=True)\n",
    "print((energy_df['USAGE_DUR']).unique())"
   ]
  },
  {
   "cell_type": "code",
   "execution_count": 41,
   "id": "ac5008d2",
   "metadata": {},
   "outputs": [
    {
     "name": "stdout",
     "output_type": "stream",
     "text": [
      "./data/clean_energy_use_10_22_22_to_10_22_23.csv\n"
     ]
    }
   ],
   "source": [
    "# Output cleaned data to a csv\n",
    "insert_i = 7\n",
    "file_path_clean = file_path[:insert_i] + \"clean_\" + file_path[insert_i:]\n",
    "print(file_path_clean)\n",
    "energy_df.to_csv(file_path_clean)"
   ]
  }
 ],
 "metadata": {
  "environment": {
   "kernel": "python3",
   "name": "pytorch-gpu.1-13.m103",
   "type": "gcloud",
   "uri": "gcr.io/deeplearning-platform-release/pytorch-gpu.1-13:m103"
  },
  "kernelspec": {
   "display_name": "Python 3 (ipykernel)",
   "language": "python",
   "name": "python3"
  },
  "language_info": {
   "codemirror_mode": {
    "name": "ipython",
    "version": 3
   },
   "file_extension": ".py",
   "mimetype": "text/x-python",
   "name": "python",
   "nbconvert_exporter": "python",
   "pygments_lexer": "ipython3",
   "version": "3.7.12"
  }
 },
 "nbformat": 4,
 "nbformat_minor": 5
}
